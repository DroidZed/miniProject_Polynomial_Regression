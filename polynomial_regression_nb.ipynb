{
 "cells": [
  {
   "cell_type": "markdown",
   "metadata": {
    "id": "vhqHxUMf9B6K"
   },
   "source": [
    "# Prediction of the Crypto Market Cap Growth"
   ]
  },
  {
   "cell_type": "markdown",
   "metadata": {
    "id": "sostbOAt9J3k"
   },
   "source": [
    "This notebook serves as an analysis tool for the Crypto market. It explores a 24-hour updating [dataset](https://www.kaggle.com/datasets/adrianjuliusaluoch/crypto-and-stock-market-data-for-financial-analysis) to approximate the deviation in exchange and understand the market growth trajectory."
   ]
  },
  {
   "cell_type": "markdown",
   "metadata": {
    "id": "RXUMG-rH9rTe"
   },
   "source": [
    "# Project Overview\n",
    "\n",
    "- **Data Analysis**: Analyse the dataset, display graphs to understand relationships and split the data for training and testing.\n",
    "- **Model training and evaluation**: Train the model on the training data.\n",
    "- **Cross validation**: test the model using Time Series Cross-validation and visualise its performance on new data.\n",
    "- **Visualisation**: visualise the resulsts across testings to compare the predictions's accuracy."
   ]
  },
  {
   "attachments": {
    "248e4f4a-caa9-4709-b1b4-a30f7a852063.webp": {
     "image/webp": "[encoded data removed]"
    }
   },
   "cell_type": "markdown",
   "metadata": {
    "id": "Pywp21t59o0F"
   },
   "source": [
    "# Polynomial Regression\n",
    "\n",
    "## Recap: what is a polynomial?\n",
    "\n",
    "In mathematics, a polynomial is a mathematical expression consisting of indeterminates (also called variables) and coefficients, that involves only the operations of addition, subtraction, multiplication and exponentiation to nonnegative integer powers, and has a finite number of terms. An example of a polynomial of a single indeterminate $x$ is $P(X)=x²-4x+7$. With three indeterminates: $P(X)=x^{3}+2xyz^{2}-yz+1$.\n",
    "\n",
    "The order/degree of a polynomial is the value of its biggest power: A polynomial of order 2 can constist of at most power 2 variables: $P(X)=x + 4x²$. It's not necessary for all the powers of $x$ to be present. We can have a singular (not very useful) variable polynomial ($\\alpha * x²$) and still be called an order 2 polynomial.\n",
    "\n",
    "## What about Polynomial Regression?\n",
    "\n",
    "In statistics, it is a form of regression analysis in which the relationship between the independent variable $x$ and the dependent variable $y$ is modeled as a polynomial $y=P(X)$. Therefore, the model won't be able to fit a non linear data as it will fail to understand the relationships between data points resulting from $n$-power polynomials.\n",
    "\n",
    "At a mathematical level, a ploynomial regression should look like this:\n",
    "\n",
    "$$y = \\beta₀ + \\beta₁x + \\beta₂x² + \\beta₃x³ + … + \\betaₙxⁿ + \\epsilon$$\n",
    "\n",
    "Where:\n",
    "- $y$ -> Dependent variable (what you’re predicting).\n",
    "- $x$ -> Independent variable (your input).\n",
    "- $\\beta₀, \\beta₁, \\beta₂, …, \\betaₙ$ -> Coefficients for each degree of $x$.\n",
    "- $x², x³, …, xⁿ$: higher-order terms that add more flexibility.\n",
    "- $\\epsilon$ -> The error/risidual term from calculations.\n",
    "\n",
    "## Key terms:\n",
    "\n",
    "* **Outlier**: An outlier is an observation that lies an abnormal distance from other values in a random sample from a population.\n",
    "\n",
    "* **Underfitting**: When your model is too simple to capture the underlying pattern in the data. Imagine trying to fit a straight line to a dataset that clearly follows a curve. Linear regression, while simple, can suffer from underfitting when the relationship isn’t linear.\n",
    "\n",
    "* **Overfitting**: It occurs when your model is too complex, capturing every tiny fluctuation in the data, including noise. This might make your training performance look stellar, but when new data comes along, the model falls apart.\n",
    "\n",
    "## Comparison with Linear model\n",
    "\n",
    "<img src=\"attachment:248e4f4a-caa9-4709-b1b4-a30f7a852063.webp\" style=\"margin:auto\"/>\n",
    "<br>\n",
    "\n",
    "At its core, polynomial regression is an extension of linear regression. But some differences are present making it more suitable for real world scenarios:\n",
    "\n",
    "|                     \t| Polynomial Regression           \t| Linear Regression                                \t|\n",
    "|-----------------------|-----------------------------------|---------------------------------------------------|\n",
    "| Type of data to use \t| Unstable data                   \t| Linear data. Assumes a constant rate of change.  \t|\n",
    "| Graph shape         \t| Curves                          \t| Straight line                                    \t|\n",
    "| Complexity          \t| Complex to read and manipulate. \t| Easier to read, understand and lighter to compute |\n",
    "\n",
    "\n",
    "## Use-cases\n",
    "\n",
    "Thanks to its flexibility, polynomial regression can easily handle real world data. A modal fit for constant change with non linear progression.\n",
    "\n",
    "Polynomial regression finds its way in various real world scenarios, including but not limited to:\n",
    "- **Finance**: modeling stock trends.\n",
    "- **Health-care**: predicting growth patterns.\n",
    "- **Manufacturing**: analysing system performance curves.\n",
    "\n",
    "## Pros and pitfalls\n",
    "Pros:\n",
    "- **Flexibility**: Can model a wide range of relationships.\n",
    "- **Better Fit**: Can capture non-linear trends in the data.\n",
    "- **Varied applicability**: Thanks to its flexible nature, we can explore a wide range of fields with volatile behavior.\n",
    "\n",
    "Pitfalls:\n",
    "- **Computational Complexity**: As the degree of the polynomial increases, so does the computational cost.\n",
    "- **Overfitting & Underfitting**: Prone to overfitting with higher-degree polynomials and underfitting low-degrees.\n",
    "- **Sensitivity to Outliers**: More sensitive to outliers compared to linear regression.\n"
   ]
  },
  {
   "cell_type": "markdown",
   "metadata": {
    "id": "k1Lo2rHj9tPR"
   },
   "source": [
    "# Setup steps"
   ]
  },
  {
   "cell_type": "markdown",
   "metadata": {
    "id": "Ww_bbXIB9u2P"
   },
   "source": [
    "# Data Analysis"
   ]
  },
  {
   "cell_type": "markdown",
   "metadata": {
    "id": "73AkL-tM9wmR"
   },
   "source": [
    "# Cross validation"
   ]
  }
 ],
 "metadata": {
  "colab": {
   "provenance": []
  },
  "kernelspec": {
   "display_name": "Python 3 (ipykernel)",
   "language": "python",
   "name": "python3"
  },
  "language_info": {
   "codemirror_mode": {
    "name": "ipython",
    "version": 3
   },
   "file_extension": ".py",
   "mimetype": "text/x-python",
   "name": "python",
   "nbconvert_exporter": "python",
   "pygments_lexer": "ipython3",
   "version": "3.13.3"
  }
 },
 "nbformat": 4,
 "nbformat_minor": 4
}
