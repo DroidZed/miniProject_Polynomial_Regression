{
  "nbformat": 4,
  "nbformat_minor": 0,
  "metadata": {
    "colab": {
      "provenance": []
    },
    "kernelspec": {
      "name": "python3",
      "display_name": "Python 3"
    },
    "language_info": {
      "name": "python"
    }
  },
  "cells": [
    {
      "cell_type": "markdown",
      "source": [
        "# Prediction of the Crypto Market Cap Growth"
      ],
      "metadata": {
        "id": "vhqHxUMf9B6K"
      }
    },
    {
      "cell_type": "markdown",
      "source": [
        "This notebook serves as an analysis tool for the Crypto market. It explores a 24-hour updating [dataset](https://www.kaggle.com/datasets/adrianjuliusaluoch/crypto-and-stock-market-data-for-financial-analysis) to approximate the deviation in exchange and understand the market growth trajectory."
      ],
      "metadata": {
        "id": "sostbOAt9J3k"
      }
    },
    {
      "cell_type": "markdown",
      "source": [
        "# Project Overview\n",
        "\n",
        "- Data Analysis: Analyse the dataset, display graphs to understand relationships and split the data for training and testing.\n",
        "- Model training and evaluation: Train the model on the training data.\n",
        "- Cross validation: test the model using Time Series Cross-validation and visualise its performance on new data.\n",
        "- Visualisation: visualise the resulsts across testings to compare the predictions's accuracy."
      ],
      "metadata": {
        "id": "RXUMG-rH9rTe"
      }
    },
    {
      "cell_type": "markdown",
      "source": [
        "# Polynomial Regression\n",
        "\n",
        "## Recap: what is a polynomial?\n",
        "\n",
        "In mathematics, a polynomial is a mathematical expression consisting of indeterminates (also called variables) and coefficients, that involves only the operations of addition, subtraction, multiplication and exponentiation to nonnegative integer powers, and has a finite number of terms. An example of a polynomial of a single indeterminate x {\\displaystyle x} is x 2 - 4 x + 7 {\\displaystyle x^{2}-4x+7. An example with three indeterminates is x 3 + 2 x y z 2 - y z + 1 {\\displaystyle x^{3}+2xyz^{2}-yz+1}.\n",
        "\n",
        "## What is Polynomial Regression?\n",
        "\n",
        "In statistics, polynomial regression is a form of regression analysis in which the relationship between the independent variable x and the dependent variable *y* is modeled as a polynomial in *x*\n",
        "\n",
        "## Use-cases\n",
        "\n",
        "## Pros and pitfalls\n"
      ],
      "metadata": {
        "id": "Pywp21t59o0F"
      }
    },
    {
      "cell_type": "markdown",
      "source": [
        "# Setup steps"
      ],
      "metadata": {
        "id": "k1Lo2rHj9tPR"
      }
    },
    {
      "cell_type": "markdown",
      "source": [
        "# Data Analysis"
      ],
      "metadata": {
        "id": "Ww_bbXIB9u2P"
      }
    },
    {
      "cell_type": "markdown",
      "source": [
        "# Cross validation"
      ],
      "metadata": {
        "id": "73AkL-tM9wmR"
      }
    },
    {
      "cell_type": "code",
      "execution_count": null,
      "metadata": {
        "id": "Oi7ZPHem80k-"
      },
      "outputs": [],
      "source": []
    }
  ]
}