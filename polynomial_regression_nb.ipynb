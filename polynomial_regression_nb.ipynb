{
 "cells": [
  {
   "cell_type": "markdown",
   "metadata": {
    "colab_type": "text",
    "id": "view-in-github"
   },
   "source": [
    "<a href=\"https://colab.research.google.com/github/DroidZed/miniProject_Polynomial_Regression/blob/main/polynomial_regression_nb.ipynb\" target=\"_parent\"><img src=\"https://colab.research.google.com/assets/colab-badge.svg\" alt=\"Open In Colab\"/></a>"
   ]
  },
  {
   "cell_type": "markdown",
   "metadata": {
    "id": "vhqHxUMf9B6K",
    "jp-MarkdownHeadingCollapsed": true
   },
   "source": [
    "# Prediction of the Crypto Market Cap Growth"
   ]
  },
  {
   "cell_type": "markdown",
   "metadata": {
    "id": "sostbOAt9J3k"
   },
   "source": [
    "This notebook serves as an analysis tool for the Crypto market. It explores a 24-hour updating [dataset](https://www.kaggle.com/datasets/adrianjuliusaluoch/crypto-and-stock-market-data-for-financial-analysis) to approximate the deviation in exchange and understand the market growth trajectory."
   ]
  },
  {
   "cell_type": "markdown",
   "metadata": {
    "id": "RXUMG-rH9rTe",
    "jp-MarkdownHeadingCollapsed": true
   },
   "source": [
    "# Project Overview\n",
    "\n",
    "- **Data Analysis**: Analyse the dataset, display graphs to understand relationships and split the data for training and testing.\n",
    "- **Cross validation**: test the model using Time Series Cross-validation and visualise its performance on new data.\n",
    "- **Model training and evaluation**: Train the model on the training data.\n",
    "- **Visualisation**: visualise the resulsts across testings to compare the predictions's accuracy."
   ]
  },
  {
   "cell_type": "markdown",
   "metadata": {
    "id": "Pywp21t59o0F",
    "jp-MarkdownHeadingCollapsed": true
   },
   "source": [
    "# Polynomial Regression"
   ]
  },
  {
   "cell_type": "markdown",
   "metadata": {
    "id": "uA5SYNL3I542"
   },
   "source": [
    "## Recap: what is a polynomial?\n",
    "\n",
    "In mathematics, a polynomial is a mathematical expression consisting of indeterminates (also called variables) and coefficients, that involves only the operations of addition, subtraction, multiplication and exponentiation to nonnegative integer powers, and has a finite number of terms. An example of a polynomial of a single indeterminate $x$ is $P(X)=x²-4x+7$. With three indeterminates: $P(X)=x^{3}+2xyz^{2}-yz+1$.\n",
    "\n",
    "The order/degree of a polynomial is the value of its biggest power: A polynomial of order 2 can constist of at most power 2 variables: $P(X)=x + 4x²$. It's not necessary for all the powers of $x$ to be present. We can have a singular (not very useful) variable polynomial ($\\alpha * x²$) and still be called an order 2 polynomial."
   ]
  },
  {
   "cell_type": "markdown",
   "metadata": {
    "id": "6kDid8UGI54-"
   },
   "source": [
    "## The math behind Polynomial Regression:\n",
    "\n",
    "In statistics, it is a form of regression analysis in which the relationship between the independent variable $x$ and the dependent variable $y$ is modeled as a polynomial $y=P(X)$. Therefore, the model won't be able to fit a non linear data as it will fail to understand the relationships between data points resulting from $n$-power polynomials.\n",
    "\n",
    "At a mathematical level, a ploynomial regression should look like this:\n",
    "\n",
    "$$y = \\beta₀ + \\beta₁x + \\beta₂x² + \\beta₃x³ + … + \\betaₙxⁿ + \\epsilon$$\n",
    "\n",
    "Where:\n",
    "- $y$ -> Dependent variable (what you’re predicting).\n",
    "- $x$ -> Independent variable (your input).\n",
    "- $\\beta₀, \\beta₁, \\beta₂, …, \\betaₙ$ -> Coefficients for each degree of $x$.\n",
    "- $x², x³, …, xⁿ$: higher-order terms that add more flexibility.\n",
    "- $\\epsilon$ -> The error/risidual term from calculations."
   ]
  },
  {
   "cell_type": "markdown",
   "metadata": {
    "id": "g_9bRV9cI55K"
   },
   "source": [
    "## Key terms:\n",
    "\n",
    "* **Outlier**: An outlier is an observation that lies an abnormal distance from other values in a random sample from a population.\n",
    "\n",
    "* **Underfitting**: When your model is too simple to capture the underlying pattern in the data. Imagine trying to fit a straight line to a dataset that clearly follows a curve. Linear regression, while simple, can suffer from underfitting when the relationship isn’t linear.\n",
    "\n",
    "* **Overfitting**: It occurs when your model is too complex, capturing every tiny fluctuation in the data, including noise. This might make your training performance look stellar, but when new data comes along, the model falls apart."
   ]
  },
  {
   "cell_type": "markdown",
   "metadata": {
    "id": "m-lZsYouI55L"
   },
   "source": [
    "## Comparison with Linear model\n",
    "\n",
    "<center>\n",
    "    <img src=\"attachment:229b7c0c-9823-4090-9b1f-ac14ba028a63.webp\" alt=\"Comparison with Linear model\" style=\"margin:auto\" />\n",
    "</center>\n",
    "<br>\n",
    "\n",
    "At its core, polynomial regression is an extension of linear regression. But some differences are present making it more suitable for real world scenarios:\n",
    "\n",
    "|                     \t| Polynomial Regression           \t| Linear Regression                                \t|\n",
    "|-----------------------|-----------------------------------|---------------------------------------------------|\n",
    "| Type of data to use \t| Unstable data                   \t| Linear data. Assumes a constant rate of change.  \t|\n",
    "| Graph shape         \t| Curves                          \t| Straight line                                    \t|\n",
    "| Complexity          \t| Complex to read and manipulate. \t| Easier to read, understand and lighter to compute |"
   ]
  },
  {
   "cell_type": "markdown",
   "metadata": {
    "id": "mwdBOeWJI55M"
   },
   "source": [
    "## Use-cases\n",
    "\n",
    "Thanks to its flexibility, polynomial regression can easily handle real world data. A modal fit for constant change with non linear progression.\n",
    "\n",
    "Polynomial regression finds its way in various real world scenarios, including but not limited to:\n",
    "- **Finance**: modeling stock trends.\n",
    "- **Health-care**: predicting growth patterns.\n",
    "- **Manufacturing**: analysing system performance curves."
   ]
  },
  {
   "cell_type": "markdown",
   "metadata": {
    "id": "Ti6-DFUZI55R",
    "jp-MarkdownHeadingCollapsed": true
   },
   "source": [
    "## Pros and pitfalls\n",
    "**Pros:**\n",
    "- **Flexibility**: Can model a wide range of relationships.\n",
    "- **Better Fit**: Can capture non-linear trends in the data.\n",
    "- **Varied applicability**: Thanks to its flexible nature, we can explore a wide range of fields with volatile behavior.\n",
    "\n",
    "**Pitfalls:**\n",
    "- **Computational Complexity**: As the degree of the polynomial increases, so does the computational cost.\n",
    "- **Overfitting & Underfitting**: Prone to overfitting with higher-degree polynomials and underfitting with low-degrees. Therefore we need cross validation to reduce errors.\n",
    "- **Sensitivity to Outliers**: More sensitive to outliers compared to linear regression."
   ]
  },
  {
   "cell_type": "markdown",
   "metadata": {
    "id": "k1Lo2rHj9tPR",
    "jp-MarkdownHeadingCollapsed": true
   },
   "source": [
    "# Environment Preparation"
   ]
  },
  {
   "cell_type": "code",
   "execution_count": null,
   "metadata": {
    "id": "pLQs-CAqI55i",
    "outputId": "36f3928e-066e-40bc-c894-a760f5adf3e9"
   },
   "outputs": [
    {
     "name": "stdout",
     "output_type": "stream",
     "text": [
      "Requirement already satisfied: pandas in e:\\ai_lecture\\miniproject_polynomial_regression\\.venv\\lib\\site-packages (2.3.2)\n",
      "Requirement already satisfied: numpy>=1.26.0 in e:\\ai_lecture\\miniproject_polynomial_regression\\.venv\\lib\\site-packages (from pandas) (2.3.3)\n",
      "Requirement already satisfied: python-dateutil>=2.8.2 in e:\\ai_lecture\\miniproject_polynomial_regression\\.venv\\lib\\site-packages (from pandas) (2.9.0.post0)\n",
      "Requirement already satisfied: pytz>=2020.1 in e:\\ai_lecture\\miniproject_polynomial_regression\\.venv\\lib\\site-packages (from pandas) (2025.2)\n",
      "Requirement already satisfied: tzdata>=2022.7 in e:\\ai_lecture\\miniproject_polynomial_regression\\.venv\\lib\\site-packages (from pandas) (2025.2)\n",
      "Requirement already satisfied: six>=1.5 in e:\\ai_lecture\\miniproject_polynomial_regression\\.venv\\lib\\site-packages (from python-dateutil>=2.8.2->pandas) (1.17.0)\n",
      "Note: you may need to restart the kernel to use updated packages.\n",
      "Requirement already satisfied: numpy in e:\\ai_lecture\\miniproject_polynomial_regression\\.venv\\lib\\site-packages (2.3.3)\n",
      "Note: you may need to restart the kernel to use updated packages.\n",
      "Requirement already satisfied: matplotlib in e:\\ai_lecture\\miniproject_polynomial_regression\\.venv\\lib\\site-packages (3.10.6)\n",
      "Requirement already satisfied: contourpy>=1.0.1 in e:\\ai_lecture\\miniproject_polynomial_regression\\.venv\\lib\\site-packages (from matplotlib) (1.3.3)\n",
      "Requirement already satisfied: cycler>=0.10 in e:\\ai_lecture\\miniproject_polynomial_regression\\.venv\\lib\\site-packages (from matplotlib) (0.12.1)\n",
      "Requirement already satisfied: fonttools>=4.22.0 in e:\\ai_lecture\\miniproject_polynomial_regression\\.venv\\lib\\site-packages (from matplotlib) (4.60.0)\n",
      "Requirement already satisfied: kiwisolver>=1.3.1 in e:\\ai_lecture\\miniproject_polynomial_regression\\.venv\\lib\\site-packages (from matplotlib) (1.4.9)\n",
      "Requirement already satisfied: numpy>=1.23 in e:\\ai_lecture\\miniproject_polynomial_regression\\.venv\\lib\\site-packages (from matplotlib) (2.3.3)\n",
      "Requirement already satisfied: packaging>=20.0 in e:\\ai_lecture\\miniproject_polynomial_regression\\.venv\\lib\\site-packages (from matplotlib) (25.0)\n",
      "Requirement already satisfied: pillow>=8 in e:\\ai_lecture\\miniproject_polynomial_regression\\.venv\\lib\\site-packages (from matplotlib) (11.3.0)\n",
      "Requirement already satisfied: pyparsing>=2.3.1 in e:\\ai_lecture\\miniproject_polynomial_regression\\.venv\\lib\\site-packages (from matplotlib) (3.2.4)\n",
      "Requirement already satisfied: python-dateutil>=2.7 in e:\\ai_lecture\\miniproject_polynomial_regression\\.venv\\lib\\site-packages (from matplotlib) (2.9.0.post0)\n",
      "Requirement already satisfied: six>=1.5 in e:\\ai_lecture\\miniproject_polynomial_regression\\.venv\\lib\\site-packages (from python-dateutil>=2.7->matplotlib) (1.17.0)\n",
      "Note: you may need to restart the kernel to use updated packages.\n",
      "Requirement already satisfied: seaborn in e:\\ai_lecture\\miniproject_polynomial_regression\\.venv\\lib\\site-packages (0.13.2)\n",
      "Requirement already satisfied: numpy!=1.24.0,>=1.20 in e:\\ai_lecture\\miniproject_polynomial_regression\\.venv\\lib\\site-packages (from seaborn) (2.3.3)\n",
      "Requirement already satisfied: pandas>=1.2 in e:\\ai_lecture\\miniproject_polynomial_regression\\.venv\\lib\\site-packages (from seaborn) (2.3.2)\n",
      "Requirement already satisfied: matplotlib!=3.6.1,>=3.4 in e:\\ai_lecture\\miniproject_polynomial_regression\\.venv\\lib\\site-packages (from seaborn) (3.10.6)\n",
      "Requirement already satisfied: contourpy>=1.0.1 in e:\\ai_lecture\\miniproject_polynomial_regression\\.venv\\lib\\site-packages (from matplotlib!=3.6.1,>=3.4->seaborn) (1.3.3)\n",
      "Requirement already satisfied: cycler>=0.10 in e:\\ai_lecture\\miniproject_polynomial_regression\\.venv\\lib\\site-packages (from matplotlib!=3.6.1,>=3.4->seaborn) (0.12.1)\n",
      "Requirement already satisfied: fonttools>=4.22.0 in e:\\ai_lecture\\miniproject_polynomial_regression\\.venv\\lib\\site-packages (from matplotlib!=3.6.1,>=3.4->seaborn) (4.60.0)\n",
      "Requirement already satisfied: kiwisolver>=1.3.1 in e:\\ai_lecture\\miniproject_polynomial_regression\\.venv\\lib\\site-packages (from matplotlib!=3.6.1,>=3.4->seaborn) (1.4.9)\n",
      "Requirement already satisfied: packaging>=20.0 in e:\\ai_lecture\\miniproject_polynomial_regression\\.venv\\lib\\site-packages (from matplotlib!=3.6.1,>=3.4->seaborn) (25.0)\n",
      "Requirement already satisfied: pillow>=8 in e:\\ai_lecture\\miniproject_polynomial_regression\\.venv\\lib\\site-packages (from matplotlib!=3.6.1,>=3.4->seaborn) (11.3.0)\n",
      "Requirement already satisfied: pyparsing>=2.3.1 in e:\\ai_lecture\\miniproject_polynomial_regression\\.venv\\lib\\site-packages (from matplotlib!=3.6.1,>=3.4->seaborn) (3.2.4)\n",
      "Requirement already satisfied: python-dateutil>=2.7 in e:\\ai_lecture\\miniproject_polynomial_regression\\.venv\\lib\\site-packages (from matplotlib!=3.6.1,>=3.4->seaborn) (2.9.0.post0)\n",
      "Requirement already satisfied: pytz>=2020.1 in e:\\ai_lecture\\miniproject_polynomial_regression\\.venv\\lib\\site-packages (from pandas>=1.2->seaborn) (2025.2)\n",
      "Requirement already satisfied: tzdata>=2022.7 in e:\\ai_lecture\\miniproject_polynomial_regression\\.venv\\lib\\site-packages (from pandas>=1.2->seaborn) (2025.2)\n",
      "Requirement already satisfied: six>=1.5 in e:\\ai_lecture\\miniproject_polynomial_regression\\.venv\\lib\\site-packages (from python-dateutil>=2.7->matplotlib!=3.6.1,>=3.4->seaborn) (1.17.0)\n",
      "Note: you may need to restart the kernel to use updated packages.\n",
      "Requirement already satisfied: scikit-learn in e:\\ai_lecture\\miniproject_polynomial_regression\\.venv\\lib\\site-packages (1.7.2)\n",
      "Requirement already satisfied: numpy>=1.22.0 in e:\\ai_lecture\\miniproject_polynomial_regression\\.venv\\lib\\site-packages (from scikit-learn) (2.3.3)\n",
      "Requirement already satisfied: scipy>=1.8.0 in e:\\ai_lecture\\miniproject_polynomial_regression\\.venv\\lib\\site-packages (from scikit-learn) (1.16.2)\n",
      "Requirement already satisfied: joblib>=1.2.0 in e:\\ai_lecture\\miniproject_polynomial_regression\\.venv\\lib\\site-packages (from scikit-learn) (1.5.2)\n",
      "Requirement already satisfied: threadpoolctl>=3.1.0 in e:\\ai_lecture\\miniproject_polynomial_regression\\.venv\\lib\\site-packages (from scikit-learn) (3.6.0)\n",
      "Note: you may need to restart the kernel to use updated packages.\n",
      "Requirement already satisfied: scipy in e:\\ai_lecture\\miniproject_polynomial_regression\\.venv\\lib\\site-packages (1.16.2)\n",
      "Requirement already satisfied: numpy<2.6,>=1.25.2 in e:\\ai_lecture\\miniproject_polynomial_regression\\.venv\\lib\\site-packages (from scipy) (2.3.3)\n",
      "Note: you may need to restart the kernel to use updated packages.\n"
     ]
    }
   ],
   "source": [
    "# Libraries installation\n",
    "%pip install pandas\n",
    "%pip install numpy\n",
    "%pip install matplotlib\n",
    "%pip install seaborn\n",
    "%pip install scikit-learn\n",
    "%pip install scipy"
   ]
  },
  {
   "cell_type": "code",
   "execution_count": 69,
   "metadata": {
    "id": "k72ZNzciI55r",
    "outputId": "80f7343c-784a-4495-be9b-ba9af91717df"
   },
   "outputs": [
    {
     "name": "stdout",
     "output_type": "stream",
     "text": [
      "Pandas version: 2.3.2\n",
      "numpy version: 2.3.3\n",
      "matplotlib version: 3.10.6\n",
      "seaborn version: 0.13.2\n",
      "scikit-learn version: 1.7.2\n",
      "scipy version: 1.16.2\n"
     ]
    }
   ],
   "source": [
    "# Importing libraries (just check the correctness of the import by showing the version)\n",
    "from datetime import timedelta\n",
    "import time\n",
    "\n",
    "import pandas as pd\n",
    "import numpy as np\n",
    "import matplotlib as mtb\n",
    "import matplotlib.pyplot as plt\n",
    "import seaborn as sb\n",
    "import sklearn\n",
    "import scipy as scp\n",
    "\n",
    "from sklearn.preprocessing import PolynomialFeatures\n",
    "from sklearn.linear_model import LinearRegression\n",
    "from sklearn.pipeline import Pipeline\n",
    "from sklearn.metrics import mean_squared_error, mean_absolute_error, r2_score\n",
    "from sklearn.metrics import mean_absolute_percentage_error\n",
    "import matplotlib.pyplot as plt\n",
    "import seaborn as sns\n",
    "from scipy import stats\n",
    "from scipy.stats import shapiro, jarque_bera, skew, kurtosis\n",
    "import warnings\n",
    "\n",
    "print(f\"Pandas version: {pd.__version__}\")\n",
    "print(f\"numpy version: {np.__version__}\")\n",
    "print(f\"matplotlib version: {mtb.__version__}\")\n",
    "print(f\"seaborn version: {sb.__version__}\")\n",
    "print(f\"scikit-learn version: {sklearn.__version__}\")\n",
    "print(f\"scipy version: {scp.__version__}\")"
   ]
  },
  {
   "cell_type": "code",
   "execution_count": 46,
   "metadata": {
    "id": "sPWwxA0AI55s"
   },
   "outputs": [],
   "source": [
    "# Load dataset (show data shape, print first n lines of the data)\n",
    "\n",
    "data = pd.read_csv(\"data/stocks.csv\")"
   ]
  },
  {
   "cell_type": "code",
   "execution_count": 47,
   "metadata": {
    "id": "2vHc5WgoI55t",
    "outputId": "fc96596e-ad99-4440-b59c-76a844af727a"
   },
   "outputs": [
    {
     "name": "stdout",
     "output_type": "stream",
     "text": [
      "data Shape = (135328, 9)\n"
     ]
    }
   ],
   "source": [
    "print(f\"data Shape = {data.shape}\")"
   ]
  },
  {
   "cell_type": "code",
   "execution_count": 48,
   "metadata": {
    "id": "kDdoHWefI55z",
    "outputId": "e719b1aa-6810-4add-d743-6f24d1414fe8"
   },
   "outputs": [
    {
     "name": "stdout",
     "output_type": "stream",
     "text": [
      "First 10 lines of the data\n"
     ]
    },
    {
     "data": {
      "text/html": [
       "<div>\n",
       "<style scoped>\n",
       "    .dataframe tbody tr th:only-of-type {\n",
       "        vertical-align: middle;\n",
       "    }\n",
       "\n",
       "    .dataframe tbody tr th {\n",
       "        vertical-align: top;\n",
       "    }\n",
       "\n",
       "    .dataframe thead th {\n",
       "        text-align: right;\n",
       "    }\n",
       "</style>\n",
       "<table border=\"1\" class=\"dataframe\">\n",
       "  <thead>\n",
       "    <tr style=\"text-align: right;\">\n",
       "      <th></th>\n",
       "      <th>timestamp</th>\n",
       "      <th>name</th>\n",
       "      <th>last</th>\n",
       "      <th>high</th>\n",
       "      <th>low</th>\n",
       "      <th>chg_</th>\n",
       "      <th>chg_%</th>\n",
       "      <th>vol_</th>\n",
       "      <th>time</th>\n",
       "    </tr>\n",
       "  </thead>\n",
       "  <tbody>\n",
       "    <tr>\n",
       "      <th>0</th>\n",
       "      <td>2025-09-18 02:00:00</td>\n",
       "      <td>Boeing</td>\n",
       "      <td>214.68</td>\n",
       "      <td>218.05</td>\n",
       "      <td>213.13</td>\n",
       "      <td>-0.34</td>\n",
       "      <td>-0.16%</td>\n",
       "      <td>5.31M</td>\n",
       "      <td>15:59:59</td>\n",
       "    </tr>\n",
       "    <tr>\n",
       "      <th>1</th>\n",
       "      <td>2025-09-18 02:00:00</td>\n",
       "      <td>Chevron</td>\n",
       "      <td>160.10</td>\n",
       "      <td>160.67</td>\n",
       "      <td>158.61</td>\n",
       "      <td>0.56</td>\n",
       "      <td>+0.35%</td>\n",
       "      <td>4.02M</td>\n",
       "      <td>15:59:59</td>\n",
       "    </tr>\n",
       "    <tr>\n",
       "      <th>2</th>\n",
       "      <td>2025-09-18 02:00:00</td>\n",
       "      <td>Citigroup</td>\n",
       "      <td>101.76</td>\n",
       "      <td>102.21</td>\n",
       "      <td>100.41</td>\n",
       "      <td>1.12</td>\n",
       "      <td>+1.11%</td>\n",
       "      <td>13.61M</td>\n",
       "      <td>15:59:59</td>\n",
       "    </tr>\n",
       "    <tr>\n",
       "      <th>3</th>\n",
       "      <td>2025-09-18 02:00:00</td>\n",
       "      <td>Caterpillar</td>\n",
       "      <td>450.62</td>\n",
       "      <td>452.34</td>\n",
       "      <td>443.00</td>\n",
       "      <td>9.95</td>\n",
       "      <td>+2.26%</td>\n",
       "      <td>4.31M</td>\n",
       "      <td>15:59:59</td>\n",
       "    </tr>\n",
       "    <tr>\n",
       "      <th>4</th>\n",
       "      <td>2025-09-18 01:30:00</td>\n",
       "      <td>Walt Disney</td>\n",
       "      <td>116.11</td>\n",
       "      <td>116.66</td>\n",
       "      <td>115.22</td>\n",
       "      <td>0.88</td>\n",
       "      <td>+0.76%</td>\n",
       "      <td>5.57M</td>\n",
       "      <td>15:59:59</td>\n",
       "    </tr>\n",
       "    <tr>\n",
       "      <th>5</th>\n",
       "      <td>2025-09-18 01:30:00</td>\n",
       "      <td>Cisco</td>\n",
       "      <td>67.72</td>\n",
       "      <td>67.88</td>\n",
       "      <td>66.38</td>\n",
       "      <td>0.79</td>\n",
       "      <td>+1.18%</td>\n",
       "      <td>17.52M</td>\n",
       "      <td>15:59:59</td>\n",
       "    </tr>\n",
       "    <tr>\n",
       "      <th>6</th>\n",
       "      <td>2025-09-18 01:30:00</td>\n",
       "      <td>Goldman Sachs</td>\n",
       "      <td>794.22</td>\n",
       "      <td>798.57</td>\n",
       "      <td>785.23</td>\n",
       "      <td>8.69</td>\n",
       "      <td>+1.11%</td>\n",
       "      <td>1.79M</td>\n",
       "      <td>15:59:59</td>\n",
       "    </tr>\n",
       "    <tr>\n",
       "      <th>7</th>\n",
       "      <td>2025-09-18 01:30:00</td>\n",
       "      <td>JPMorgan</td>\n",
       "      <td>311.75</td>\n",
       "      <td>312.91</td>\n",
       "      <td>308.77</td>\n",
       "      <td>2.56</td>\n",
       "      <td>+0.83%</td>\n",
       "      <td>8.41M</td>\n",
       "      <td>15:59:59</td>\n",
       "    </tr>\n",
       "    <tr>\n",
       "      <th>8</th>\n",
       "      <td>2025-09-18 01:30:00</td>\n",
       "      <td>Coca-Cola</td>\n",
       "      <td>67.04</td>\n",
       "      <td>67.13</td>\n",
       "      <td>66.41</td>\n",
       "      <td>0.80</td>\n",
       "      <td>+1.20%</td>\n",
       "      <td>12.43M</td>\n",
       "      <td>15:59:59</td>\n",
       "    </tr>\n",
       "    <tr>\n",
       "      <th>9</th>\n",
       "      <td>2025-09-18 01:30:00</td>\n",
       "      <td>McDonald’s</td>\n",
       "      <td>305.00</td>\n",
       "      <td>306.58</td>\n",
       "      <td>303.91</td>\n",
       "      <td>1.71</td>\n",
       "      <td>+0.56%</td>\n",
       "      <td>2.59M</td>\n",
       "      <td>15:59:59</td>\n",
       "    </tr>\n",
       "  </tbody>\n",
       "</table>\n",
       "</div>"
      ],
      "text/plain": [
       "             timestamp           name    last    high     low  chg_   chg_%  \\\n",
       "0  2025-09-18 02:00:00         Boeing  214.68  218.05  213.13 -0.34  -0.16%   \n",
       "1  2025-09-18 02:00:00        Chevron  160.10  160.67  158.61  0.56  +0.35%   \n",
       "2  2025-09-18 02:00:00      Citigroup  101.76  102.21  100.41  1.12  +1.11%   \n",
       "3  2025-09-18 02:00:00    Caterpillar  450.62  452.34  443.00  9.95  +2.26%   \n",
       "4  2025-09-18 01:30:00    Walt Disney  116.11  116.66  115.22  0.88  +0.76%   \n",
       "5  2025-09-18 01:30:00          Cisco   67.72   67.88   66.38  0.79  +1.18%   \n",
       "6  2025-09-18 01:30:00  Goldman Sachs  794.22  798.57  785.23  8.69  +1.11%   \n",
       "7  2025-09-18 01:30:00       JPMorgan  311.75  312.91  308.77  2.56  +0.83%   \n",
       "8  2025-09-18 01:30:00      Coca-Cola   67.04   67.13   66.41  0.80  +1.20%   \n",
       "9  2025-09-18 01:30:00     McDonald’s  305.00  306.58  303.91  1.71  +0.56%   \n",
       "\n",
       "     vol_      time  \n",
       "0   5.31M  15:59:59  \n",
       "1   4.02M  15:59:59  \n",
       "2  13.61M  15:59:59  \n",
       "3   4.31M  15:59:59  \n",
       "4   5.57M  15:59:59  \n",
       "5  17.52M  15:59:59  \n",
       "6   1.79M  15:59:59  \n",
       "7   8.41M  15:59:59  \n",
       "8  12.43M  15:59:59  \n",
       "9   2.59M  15:59:59  "
      ]
     },
     "execution_count": 48,
     "metadata": {},
     "output_type": "execute_result"
    }
   ],
   "source": [
    "# Printing the first N lines of the data\n",
    "n = 10\n",
    "print(f\"First {n} lines of the data\")\n",
    "data.head(n)"
   ]
  },
  {
   "cell_type": "markdown",
   "metadata": {
    "id": "Ww_bbXIB9u2P"
   },
   "source": [
    "# Data Analysis"
   ]
  },
  {
   "cell_type": "code",
   "execution_count": 49,
   "metadata": {
    "id": "rqWag8wTI553"
   },
   "outputs": [],
   "source": [
    "# Clean and process data (show data shape)"
   ]
  },
  {
   "cell_type": "code",
   "execution_count": 91,
   "metadata": {
    "id": "MrHA5fhpI555",
    "outputId": "27630f44-f327-407f-e15d-765034d25260"
   },
   "outputs": [
    {
     "name": "stdout",
     "output_type": "stream",
     "text": [
      "Dataframe columns: Index(['timestamp', 'name', 'last', 'high', 'low', 'change',\n",
      "       'change_percentage', 'volume', 'time'],\n",
      "      dtype='object')\n",
      "\n",
      "Visualising the new data with updated columns and cleaned rows:\n"
     ]
    },
    {
     "data": {
      "text/html": [
       "<div>\n",
       "<style scoped>\n",
       "    .dataframe tbody tr th:only-of-type {\n",
       "        vertical-align: middle;\n",
       "    }\n",
       "\n",
       "    .dataframe tbody tr th {\n",
       "        vertical-align: top;\n",
       "    }\n",
       "\n",
       "    .dataframe thead th {\n",
       "        text-align: right;\n",
       "    }\n",
       "</style>\n",
       "<table border=\"1\" class=\"dataframe\">\n",
       "  <thead>\n",
       "    <tr style=\"text-align: right;\">\n",
       "      <th></th>\n",
       "      <th>timestamp</th>\n",
       "      <th>name</th>\n",
       "      <th>last</th>\n",
       "      <th>high</th>\n",
       "      <th>low</th>\n",
       "      <th>change</th>\n",
       "      <th>change_percentage</th>\n",
       "      <th>volume</th>\n",
       "      <th>time</th>\n",
       "    </tr>\n",
       "  </thead>\n",
       "  <tbody>\n",
       "    <tr>\n",
       "      <th>0</th>\n",
       "      <td>2025-09-18 02:00:00</td>\n",
       "      <td>Boeing</td>\n",
       "      <td>214.68</td>\n",
       "      <td>218.05</td>\n",
       "      <td>213.13</td>\n",
       "      <td>-0.34</td>\n",
       "      <td>-0.16</td>\n",
       "      <td>5.31</td>\n",
       "      <td>15:59:59</td>\n",
       "    </tr>\n",
       "    <tr>\n",
       "      <th>1</th>\n",
       "      <td>2025-09-18 02:00:00</td>\n",
       "      <td>Chevron</td>\n",
       "      <td>160.10</td>\n",
       "      <td>160.67</td>\n",
       "      <td>158.61</td>\n",
       "      <td>0.56</td>\n",
       "      <td>0.35</td>\n",
       "      <td>4.02</td>\n",
       "      <td>15:59:59</td>\n",
       "    </tr>\n",
       "    <tr>\n",
       "      <th>2</th>\n",
       "      <td>2025-09-18 02:00:00</td>\n",
       "      <td>Citigroup</td>\n",
       "      <td>101.76</td>\n",
       "      <td>102.21</td>\n",
       "      <td>100.41</td>\n",
       "      <td>1.12</td>\n",
       "      <td>1.11</td>\n",
       "      <td>13.61</td>\n",
       "      <td>15:59:59</td>\n",
       "    </tr>\n",
       "    <tr>\n",
       "      <th>3</th>\n",
       "      <td>2025-09-18 02:00:00</td>\n",
       "      <td>Caterpillar</td>\n",
       "      <td>450.62</td>\n",
       "      <td>452.34</td>\n",
       "      <td>443.00</td>\n",
       "      <td>9.95</td>\n",
       "      <td>2.26</td>\n",
       "      <td>4.31</td>\n",
       "      <td>15:59:59</td>\n",
       "    </tr>\n",
       "    <tr>\n",
       "      <th>4</th>\n",
       "      <td>2025-09-18 01:30:00</td>\n",
       "      <td>Walt Disney</td>\n",
       "      <td>116.11</td>\n",
       "      <td>116.66</td>\n",
       "      <td>115.22</td>\n",
       "      <td>0.88</td>\n",
       "      <td>0.76</td>\n",
       "      <td>5.57</td>\n",
       "      <td>15:59:59</td>\n",
       "    </tr>\n",
       "  </tbody>\n",
       "</table>\n",
       "</div>"
      ],
      "text/plain": [
       "             timestamp         name    last    high     low  change  \\\n",
       "0  2025-09-18 02:00:00       Boeing  214.68  218.05  213.13   -0.34   \n",
       "1  2025-09-18 02:00:00      Chevron  160.10  160.67  158.61    0.56   \n",
       "2  2025-09-18 02:00:00    Citigroup  101.76  102.21  100.41    1.12   \n",
       "3  2025-09-18 02:00:00  Caterpillar  450.62  452.34  443.00    9.95   \n",
       "4  2025-09-18 01:30:00  Walt Disney  116.11  116.66  115.22    0.88   \n",
       "\n",
       "   change_percentage  volume      time  \n",
       "0              -0.16    5.31  15:59:59  \n",
       "1               0.35    4.02  15:59:59  \n",
       "2               1.11   13.61  15:59:59  \n",
       "3               2.26    4.31  15:59:59  \n",
       "4               0.76    5.57  15:59:59  "
      ]
     },
     "execution_count": 91,
     "metadata": {},
     "output_type": "execute_result"
    }
   ],
   "source": [
    "# Get dataframe columns:\n",
    "print(f\"Dataframe columns: {data.columns}\\n\")\n",
    "\n",
    "def clean_data(data):\n",
    "    # Renaming the chg_, chg_% and vol_ columns to make them more readable:\n",
    "    updated_cols = {'chg_': 'change','chg_%': 'change_percentage','vol_': 'volume'}\n",
    "\n",
    "    # Ommit the 'inplace' argument to get a copy of the original dataframe with updated columns.\n",
    "    data.rename(columns=updated_cols, inplace = True)\n",
    "\n",
    "    def process_percentage(v: str) -> float:\n",
    "        try:\n",
    "            new = v.replace('%', '').replace('+', '')\n",
    "    \n",
    "            return float(new)\n",
    "        except:\n",
    "            return v\n",
    "    \n",
    "    def process_volume(v: str) -> float:\n",
    "        try:\n",
    "            new = v.replace('M', '').replace('K', '')\n",
    "    \n",
    "            return float(new)\n",
    "        except:\n",
    "            return v\n",
    "\n",
    "    data['change_percentage'] = data['change_percentage'].apply(lambda x: process_percentage(x))\n",
    "    data['volume'] = data['volume'].apply(lambda x: process_volume(x))\n",
    "\n",
    "    return data\n",
    "\n",
    "print(\"Visualising the new data with updated columns and cleaned rows:\")\n",
    "\n",
    "cleaned = clean_data(data)\n",
    "data.head(5)\n"
   ]
  },
  {
   "cell_type": "code",
   "execution_count": 51,
   "metadata": {
    "id": "e5FoynkBI556",
    "outputId": "f61b68dc-7bd4-476b-f03f-1d6a05aa522c"
   },
   "outputs": [
    {
     "name": "stdout",
     "output_type": "stream",
     "text": [
      "OLD data Shape = (135328, 9)\n",
      "NEW data Shape = (135328, 9)\n"
     ]
    }
   ],
   "source": [
    "# Removing Nan values:\n",
    "print(f\"OLD data Shape = {data.shape}\")\n",
    "\n",
    "data.dropna()\n",
    "\n",
    "print(f\"NEW data Shape = {data.shape}\")"
   ]
  },
  {
   "cell_type": "code",
   "execution_count": 52,
   "metadata": {
    "id": "9zLjz5XYI556",
    "outputId": "b0333748-98fb-4912-b15f-5c58bfd25a53"
   },
   "outputs": [
    {
     "name": "stdout",
     "output_type": "stream",
     "text": [
      "Original DataFrame shape: (135328, 9)\n",
      "Numeric data shape: (135328, 6)\n",
      "Features: ['last' 'high' 'low' 'change' 'change_percentage' 'volume']\n",
      "Stock names: ['Boeing' 'Chevron' 'Citigroup' ... 'Coca-Cola' 'P&amp;G' 'Nike']\n",
      "\n",
      "First few rows of numeric data:\n"
     ]
    },
    {
     "data": {
      "text/html": [
       "<div>\n",
       "<style scoped>\n",
       "    .dataframe tbody tr th:only-of-type {\n",
       "        vertical-align: middle;\n",
       "    }\n",
       "\n",
       "    .dataframe tbody tr th {\n",
       "        vertical-align: top;\n",
       "    }\n",
       "\n",
       "    .dataframe thead th {\n",
       "        text-align: right;\n",
       "    }\n",
       "</style>\n",
       "<table border=\"1\" class=\"dataframe\">\n",
       "  <thead>\n",
       "    <tr style=\"text-align: right;\">\n",
       "      <th></th>\n",
       "      <th>last</th>\n",
       "      <th>high</th>\n",
       "      <th>low</th>\n",
       "      <th>change</th>\n",
       "      <th>change_percentage</th>\n",
       "      <th>volume</th>\n",
       "    </tr>\n",
       "  </thead>\n",
       "  <tbody>\n",
       "    <tr>\n",
       "      <th>Boeing</th>\n",
       "      <td>214.68</td>\n",
       "      <td>218.05</td>\n",
       "      <td>213.13</td>\n",
       "      <td>-0.34</td>\n",
       "      <td>-0.16</td>\n",
       "      <td>5.31</td>\n",
       "    </tr>\n",
       "    <tr>\n",
       "      <th>Chevron</th>\n",
       "      <td>160.10</td>\n",
       "      <td>160.67</td>\n",
       "      <td>158.61</td>\n",
       "      <td>0.56</td>\n",
       "      <td>0.35</td>\n",
       "      <td>4.02</td>\n",
       "    </tr>\n",
       "    <tr>\n",
       "      <th>Citigroup</th>\n",
       "      <td>101.76</td>\n",
       "      <td>102.21</td>\n",
       "      <td>100.41</td>\n",
       "      <td>1.12</td>\n",
       "      <td>1.11</td>\n",
       "      <td>13.61</td>\n",
       "    </tr>\n",
       "    <tr>\n",
       "      <th>Caterpillar</th>\n",
       "      <td>450.62</td>\n",
       "      <td>452.34</td>\n",
       "      <td>443.00</td>\n",
       "      <td>9.95</td>\n",
       "      <td>2.26</td>\n",
       "      <td>4.31</td>\n",
       "    </tr>\n",
       "    <tr>\n",
       "      <th>Walt Disney</th>\n",
       "      <td>116.11</td>\n",
       "      <td>116.66</td>\n",
       "      <td>115.22</td>\n",
       "      <td>0.88</td>\n",
       "      <td>0.76</td>\n",
       "      <td>5.57</td>\n",
       "    </tr>\n",
       "  </tbody>\n",
       "</table>\n",
       "</div>"
      ],
      "text/plain": [
       "               last    high     low  change  change_percentage  volume\n",
       "Boeing       214.68  218.05  213.13   -0.34              -0.16    5.31\n",
       "Chevron      160.10  160.67  158.61    0.56               0.35    4.02\n",
       "Citigroup    101.76  102.21  100.41    1.12               1.11   13.61\n",
       "Caterpillar  450.62  452.34  443.00    9.95               2.26    4.31\n",
       "Walt Disney  116.11  116.66  115.22    0.88               0.76    5.57"
      ]
     },
     "execution_count": 52,
     "metadata": {},
     "output_type": "execute_result"
    }
   ],
   "source": [
    "# Extract numeric columns and convert to numpy arrays\n",
    "numeric_columns = ['last', 'high', 'low', 'change', 'change_percentage', 'volume']\n",
    "names = data['name'].values  # NumPy array of stock names\n",
    "\n",
    "# Create numpy arrays from DataFrame columns\n",
    "last_prices = data['last'].values\n",
    "high_prices = data['high'].values\n",
    "low_prices = data['low'].values\n",
    "changes = data['change'].values\n",
    "change_percentages = data['change_percentage'].values\n",
    "volumes = data['volume'].values\n",
    "\n",
    "# Combine all numeric data into a 2D numpy array\n",
    "numeric_data = np.column_stack([last_prices, high_prices, low_prices, changes, change_percentages, volumes])\n",
    "feature_names = np.array(['last', 'high', 'low', 'change', 'change_percentage', 'volume'])\n",
    "\n",
    "# Create DataFrame for seaborn compatibility\n",
    "data_numeric = pd.DataFrame(numeric_data, columns=feature_names, index=names)\n",
    "\n",
    "\n",
    "print(f\"Original DataFrame shape: {data.shape}\")\n",
    "print(f\"Numeric data shape: {numeric_data.shape}\")\n",
    "print(f\"Features: {feature_names}\")\n",
    "print(f\"Stock names: {names}\")\n",
    "print(f\"\\nFirst few rows of numeric data:\")\n",
    "data_numeric.head()"
   ]
  },
  {
   "cell_type": "code",
   "execution_count": 53,
   "metadata": {
    "colab": {
     "base_uri": "https://localhost:8080/",
     "height": 193
    },
    "id": "hsO6MQQlI556",
    "outputId": "1a5a722b-3f0f-4375-ab62-70b18243658c"
   },
   "outputs": [],
   "source": [
    "# Data visualisation (histogramm, pair plot, box plot, corralation heatmap, feature distrubion)\n",
    "\n",
    "plt.style.use('default')\n",
    "sb.set_palette(\"husl\")"
   ]
  },
  {
   "cell_type": "code",
   "execution_count": 54,
   "metadata": {
    "id": "fVncUyb-I558"
   },
   "outputs": [
    {
     "data": {
      "image/png": "[encoded data removed]",
      "text/plain": [
       "<Figure size 1200x900 with 2 Axes>"
      ]
     },
     "metadata": {},
     "output_type": "display_data"
    }
   ],
   "source": [
    "# 4. Correlation Heatmap\n",
    "\n",
    "plt.figure(figsize=(12, 9))\n",
    "\n",
    "# Calculate correlation matrix using numpy\n",
    "correlation_matrix = np.corrcoef(numeric_data.T)  # Transpose to get feature correlation\n",
    "\n",
    "mask = np.triu(np.ones_like(correlation_matrix, dtype=bool))  # Mask upper triangle\n",
    "\n",
    "# Create DataFrame for seaborn heatmap\n",
    "\n",
    "corr_data = pd.DataFrame(correlation_matrix, index=feature_names, columns=feature_names)\n",
    "\n",
    "sb.heatmap(corr_data, annot=True, cmap='RdBu_r', center=0,\n",
    "            square=True, fmt='.3f', cbar_kws={\"shrink\": .8},\n",
    "            mask=mask, linewidths=0.5)\n",
    "\n",
    "plt.title('Correlation Heatmap - Stock Variables', fontsize=14, pad=20)\n",
    "\n",
    "plt.tight_layout()\n",
    "plt.show()"
   ]
  },
  {
   "cell_type": "code",
   "execution_count": 55,
   "metadata": {
    "id": "gDBxbwD9I559"
   },
   "outputs": [
    {
     "name": "stdout",
     "output_type": "stream",
     "text": [
      "Stock Data Summary:\n",
      "                last           high            low         change  \\\n",
      "count  135328.000000  135328.000000  135328.000000  135328.000000   \n",
      "mean      232.179260     234.416809     229.665015      -0.014093   \n",
      "std       135.872296     137.059865     134.432782       5.984421   \n",
      "min        40.730000      41.070000      40.690000    -134.930000   \n",
      "25%       131.290000     134.370000     129.160000      -1.380000   \n",
      "50%       224.290000     226.130000     221.510000       0.090000   \n",
      "75%       305.690000     308.670000     302.510000       1.780000   \n",
      "max       796.640000     798.570000     787.490000      58.300000   \n",
      "\n",
      "       change_percentage         volume  \n",
      "count      135328.000000  135328.000000  \n",
      "mean            0.023468      52.988492  \n",
      "std             2.020378     157.628794  \n",
      "min           -23.060000       1.000000  \n",
      "25%            -0.740000       3.230000  \n",
      "50%             0.050000       7.570000  \n",
      "75%             0.940000      17.350000  \n",
      "max            18.720000     999.860000  \n"
     ]
    }
   ],
   "source": [
    "# Print basic statistics\n",
    "print(\"Stock Data Summary:\")\n",
    "print(data_numeric.describe())"
   ]
  },
  {
   "cell_type": "markdown",
   "metadata": {
    "id": "igyJWNLMI559",
    "jp-MarkdownHeadingCollapsed": true
   },
   "source": [
    "# Model utilities (Definions and function personalisations)"
   ]
  },
  {
   "cell_type": "code",
   "execution_count": 56,
   "metadata": {
    "id": "73AkL-tM9wmR"
   },
   "outputs": [],
   "source": [
    "# Any function that needs to be personalised (ex: Cross validation), if none, you don't need to have this part.\n",
    "\n",
    "def time_series_cross_validation(data, target_col='last', feature_cols=None, \n",
    "                                degree=2, n_splits=5, test_size_days=30, \n",
    "                                gap_days=0, min_train_size_days=90):\n",
    "    \"\"\"\n",
    "    Perform time-series cross validation for polynomial regression on stock data.\n",
    "    \n",
    "    Parameters:\n",
    "    -----------\n",
    "    data : pd.DataFrame\n",
    "        Stock data with timestamp column\n",
    "    target_col : str\n",
    "        Column name for target variable (default: 'last')\n",
    "    feature_cols : list\n",
    "        List of feature column names. If None, uses ['high', 'low', 'volume', 'change_percentage']\n",
    "    degree : int\n",
    "        Degree of polynomial features (default: 2)\n",
    "    n_splits : int\n",
    "        Number of CV splits (default: 5)\n",
    "    test_size_days : int\n",
    "        Size of test set in days (default: 30)\n",
    "    gap_days : int\n",
    "        Gap between train and test sets in days (default: 0)\n",
    "    min_train_size_days : int\n",
    "        Minimum training set size in days (default: 90)\n",
    "    \n",
    "    Returns:\n",
    "    --------\n",
    "    dict : Cross validation results with metrics for each fold\n",
    "    \"\"\"\n",
    "    \n",
    "    # Ensure data is sorted by timestamp\n",
    "    data_sorted = data.copy().sort_values('timestamp')\n",
    "    data_sorted['timestamp'] = pd.to_datetime(data_sorted['timestamp'])\n",
    "    \n",
    "    # Set default feature columns if not provided\n",
    "    if feature_cols is None:\n",
    "        feature_cols = ['high', 'low', 'volume', 'change_percentage']\n",
    "    \n",
    "    # Remove any rows with missing values in required columns\n",
    "    required_cols = feature_cols + [target_col, 'timestamp']\n",
    "    data_clean = data_sorted[required_cols].dropna()\n",
    "    \n",
    "    # Initialize results storage\n",
    "    cv_results = {\n",
    "        'fold': [],\n",
    "        'train_start': [],\n",
    "        'train_end': [],\n",
    "        'test_start': [],\n",
    "        'test_end': [],\n",
    "        'train_size': [],\n",
    "        'test_size': [],\n",
    "        'mse': [],\n",
    "        'mae': [],\n",
    "        'r2': [],\n",
    "        'predictions': [],\n",
    "        'actual': []\n",
    "    }\n",
    "    \n",
    "    # Get date range\n",
    "    start_date = data_clean['timestamp'].min()\n",
    "    end_date = data_clean['timestamp'].max()\n",
    "    total_days = (end_date - start_date).days\n",
    "    \n",
    "    # Calculate split points\n",
    "    test_size_delta = timedelta(days=test_size_days)\n",
    "    gap_delta = timedelta(days=gap_days)\n",
    "    min_train_delta = timedelta(days=min_train_size_days)\n",
    "    \n",
    "    # Perform time-series splits\n",
    "    for fold in range(n_splits):\n",
    "        # Calculate test period end (working backwards from end_date)\n",
    "        test_end = end_date - timedelta(days=fold * test_size_days)\n",
    "        test_start = test_end - test_size_delta\n",
    "        \n",
    "        # Calculate train period end (with gap)\n",
    "        train_end = test_start - gap_delta\n",
    "        \n",
    "        # Calculate train period start\n",
    "        # For first fold, use minimum training size\n",
    "        # For subsequent folds, expand training window\n",
    "        if fold == 0:\n",
    "            train_start = train_end - min_train_delta\n",
    "        else:\n",
    "            # Expanding window: use more historical data for later folds\n",
    "            additional_days = fold * (test_size_days // 2)  # Add some historical data each fold\n",
    "            train_start = train_end - min_train_delta - timedelta(days=additional_days)\n",
    "        \n",
    "        # Ensure train_start is not before our data starts\n",
    "        train_start = max(train_start, start_date)\n",
    "        \n",
    "        # Skip if we don't have enough data\n",
    "        if train_start >= train_end or test_start >= test_end:\n",
    "            continue\n",
    "            \n",
    "        # Create train and test sets\n",
    "        train_mask = (data_clean['timestamp'] >= train_start) & (data_clean['timestamp'] < train_end)\n",
    "        test_mask = (data_clean['timestamp'] >= test_start) & (data_clean['timestamp'] < test_end)\n",
    "        \n",
    "        train_data = data_clean[train_mask]\n",
    "        test_data = data_clean[test_mask]\n",
    "        \n",
    "        # Skip if insufficient data\n",
    "        if len(train_data) < 10 or len(test_data) < 5:\n",
    "            continue\n",
    "        \n",
    "        # Prepare features and targets\n",
    "        X_train = train_data[feature_cols].values\n",
    "        y_train = train_data[target_col].values\n",
    "        X_test = test_data[feature_cols].values\n",
    "        y_test = test_data[target_col].values\n",
    "        \n",
    "        # Create polynomial regression pipeline\n",
    "        poly_reg = Pipeline([\n",
    "            ('poly', PolynomialFeatures(degree=degree, include_bias=False)),\n",
    "            ('linear', LinearRegression())\n",
    "        ])\n",
    "        \n",
    "        # Train model\n",
    "        poly_reg.fit(X_train, y_train)\n",
    "        \n",
    "        # Make predictions\n",
    "        y_pred = poly_reg.predict(X_test)\n",
    "        \n",
    "        # Calculate metrics\n",
    "        mse = mean_squared_error(y_test, y_pred)\n",
    "        mae = mean_absolute_error(y_test, y_pred)\n",
    "        r2 = r2_score(y_test, y_pred)\n",
    "        \n",
    "        # Store results\n",
    "        cv_results['fold'].append(fold + 1)\n",
    "        cv_results['train_start'].append(train_start)\n",
    "        cv_results['train_end'].append(train_end)\n",
    "        cv_results['test_start'].append(test_start)\n",
    "        cv_results['test_end'].append(test_end)\n",
    "        cv_results['train_size'].append(len(train_data))\n",
    "        cv_results['test_size'].append(len(test_data))\n",
    "        cv_results['mse'].append(mse)\n",
    "        cv_results['mae'].append(mae)\n",
    "        cv_results['r2'].append(r2)\n",
    "        cv_results['predictions'].append(y_pred)\n",
    "        cv_results['actual'].append(y_test)\n",
    "        \n",
    "        print(f\"Fold {fold + 1}:\")\n",
    "        print(f\"  Train: {train_start.date()} to {train_end.date()} ({len(train_data)} samples)\")\n",
    "        print(f\"  Test:  {test_start.date()} to {test_end.date()} ({len(test_data)} samples)\")\n",
    "        print(f\"  MSE: {mse:.6f}, MAE: {mae:.6f}, R²: {r2:.6f}\")\n",
    "        print()\n",
    "\n",
    "    return cv_results"
   ]
  },
  {
   "cell_type": "code",
   "execution_count": 57,
   "metadata": {},
   "outputs": [
    {
     "name": "stdout",
     "output_type": "stream",
     "text": [
      "Fold 1:\n",
      "  Train: 2025-05-20 to 2025-08-18 (64890 samples)\n",
      "  Test:  2025-08-19 to 2025-09-18 (23554 samples)\n",
      "  MSE: 1.164547, MAE: 0.705565, R²: 0.999947\n",
      "\n",
      "Fold 2:\n",
      "  Train: 2025-04-05 to 2025-07-19 (75720 samples)\n",
      "  Test:  2025-07-20 to 2025-08-19 (21570 samples)\n",
      "  MSE: 2.239067, MAE: 0.874375, R²: 0.999892\n",
      "\n",
      "Fold 3:\n",
      "  Train: 2025-03-17 to 2025-06-19 (67910 samples)\n",
      "  Test:  2025-06-20 to 2025-07-20 (21570 samples)\n",
      "  MSE: 1.313150, MAE: 0.729658, R²: 0.999932\n",
      "\n",
      "Fold 4:\n",
      "  Train: 2025-03-17 to 2025-05-20 (46160 samples)\n",
      "  Test:  2025-05-21 to 2025-06-20 (21750 samples)\n",
      "  MSE: 1.338022, MAE: 0.762710, R²: 0.999919\n",
      "\n",
      "Fold 5:\n",
      "  Train: 2025-03-17 to 2025-04-20 (24560 samples)\n",
      "  Test:  2025-04-21 to 2025-05-21 (21600 samples)\n",
      "  MSE: 3.026248, MAE: 1.017600, R²: 0.999806\n",
      "\n",
      "Cross-Validation Summary:\n",
      "Average MSE: 1.816207 (±0.714058)\n",
      "Average MAE: 0.817982 (±0.115344)\n",
      "Average R²:  0.999899 (±0.000050)\n"
     ]
    }
   ],
   "source": [
    "# Example usage:\n",
    "\n",
    "cv_results = time_series_cross_validation(\n",
    "    data, \n",
    "    target_col='last',\n",
    "    feature_cols=['high', 'low', 'volume', 'change_percentage'],\n",
    "    degree=2,\n",
    "    n_splits=5,\n",
    "    test_size_days=30,\n",
    "    gap_days=1  # 1-day gap to prevent data leakage\n",
    ")\n",
    "\n",
    "# Calculate summary statistics\n",
    "if cv_results['mse']:\n",
    "    print(\"Cross-Validation Summary:\")\n",
    "    print(f\"Average MSE: {np.mean(cv_results['mse']):.6f} (±{np.std(cv_results['mse']):.6f})\")\n",
    "    print(f\"Average MAE: {np.mean(cv_results['mae']):.6f} (±{np.std(cv_results['mae']):.6f})\")\n",
    "    print(f\"Average R²:  {np.mean(cv_results['r2']):.6f} (±{np.std(cv_results['r2']):.6f})\")"
   ]
  },
  {
   "cell_type": "markdown",
   "metadata": {
    "id": "f1EqDPUKI559"
   },
   "source": [
    "# Model Training and evaluation"
   ]
  },
  {
   "cell_type": "markdown",
   "metadata": {},
   "source": [
    "## Definitions\n",
    "\n",
    "**MSE (Mean Squared Error):**\n",
    "The average of the squared differences between predicted and actual values. It's calculated as the sum of (predicted - actual)² divided by the number of observations. MSE penalizes larger errors more heavily due to the squaring operation and is always non-negative.\n",
    "\n",
    "**MAE (Mean Absolute Error):**\n",
    "The average of the absolute differences between predicted and actual values. It's calculated as the sum of |predicted - actual| divided by the number of observations. MAE treats all errors equally regardless of their magnitude and is more robust to outliers than MSE.\n",
    "\n",
    "**R² (R-squared, Coefficient of Determination):**\n",
    "A measure that indicates the proportion of variance in the dependent variable that's explained by the independent variables in the model. R² ranges from 0 to 1, where 1 means the model explains all the variance and 0 means it explains none. Higher values indicate better model fit.\n",
    "\n",
    "**RMSE (Root Mean Squared Error):**\n",
    "The square root of MSE, which brings the error metric back to the same units as the original data. RMSE is more interpretable than MSE since it's in the same scale as the target variable, while still penalizing larger errors more than smaller ones."
   ]
  },
  {
   "cell_type": "markdown",
   "metadata": {},
   "source": [
    "# Training"
   ]
  },
  {
   "cell_type": "code",
   "execution_count": 84,
   "metadata": {},
   "outputs": [],
   "source": [
    "# Training configuration\n",
    "poly_degree = 10\n",
    "train_ratio = 0.5\n",
    "target_col = 'last'\n",
    "feature_cols = ['high', 'low', 'volume', 'change_percentage']\n",
    "validation_split = False"
   ]
  },
  {
   "cell_type": "code",
   "execution_count": 85,
   "metadata": {
    "id": "SfUSJoSaI559"
   },
   "outputs": [
    {
     "name": "stdout",
     "output_type": "stream",
     "text": [
      "Training on 135328 samples\n",
      "Features: ['high', 'low', 'volume', 'change_percentage']\n",
      "Target: last\n",
      "Polynomial degree: 10\n",
      "\n",
      "Data splits:\n",
      "Train: 67664 samples (2025-03-17 to 2025-06-18)\n",
      "Test: 67664 samples (2025-06-18 to 2025-09-18)\n",
      "\n",
      "Training polynomial regression model...\n",
      "Training completed in 6.4990 seconds\n"
     ]
    }
   ],
   "source": [
    "# Training (training time)\n",
    "\n",
    "# Ensure data is sorted by timestamp and clean\n",
    "data_sorted = data.copy().sort_values('timestamp')\n",
    "data_sorted['timestamp'] = pd.to_datetime(data_sorted['timestamp'])\n",
    "\n",
    "# Remove missing values\n",
    "required_cols = feature_cols + [target_col, 'timestamp']\n",
    "data_clean = data_sorted[required_cols].dropna()\n",
    "\n",
    "print(f\"Training on {len(data_clean)} samples\")\n",
    "print(f\"Features: {feature_cols}\")\n",
    "print(f\"Target: {target_col}\")\n",
    "print(f\"Polynomial degree: {poly_degree}\")\n",
    "\n",
    "# Time-based split\n",
    "n_samples = len(data_clean)\n",
    "\n",
    "if validation_split:\n",
    "    # Use train_ratio for train set, split remaining between val and test\n",
    "    train_end_idx = int(n_samples * train_ratio)\n",
    "    remaining_samples = n_samples - train_end_idx\n",
    "    val_size = remaining_samples // 2\n",
    "    val_end_idx = train_end_idx + val_size\n",
    "    \n",
    "    train_data = data_clean.iloc[:train_end_idx]\n",
    "    val_data = data_clean.iloc[train_end_idx:val_end_idx]\n",
    "    test_data = data_clean.iloc[val_end_idx:]\n",
    "    \n",
    "    print(f\"\\nData splits:\")\n",
    "    print(f\"Train: {len(train_data)} samples ({train_data['timestamp'].min().date()} to {train_data['timestamp'].max().date()})\")\n",
    "    print(f\"Validation: {len(val_data)} samples ({val_data['timestamp'].min().date()} to {val_data['timestamp'].max().date()})\")\n",
    "    print(f\"Test: {len(test_data)} samples ({test_data['timestamp'].min().date()} to {test_data['timestamp'].max().date()})\")\n",
    "else:\n",
    "    train_end_idx = int(n_samples * train_ratio)\n",
    "    train_data = data_clean.iloc[:train_end_idx]\n",
    "    test_data = data_clean.iloc[train_end_idx:]\n",
    "    val_data = None\n",
    "    \n",
    "    print(f\"\\nData splits:\")\n",
    "    print(f\"Train: {len(train_data)} samples ({train_data['timestamp'].min().date()} to {train_data['timestamp'].max().date()})\")\n",
    "    print(f\"Test: {len(test_data)} samples ({test_data['timestamp'].min().date()} to {test_data['timestamp'].max().date()})\")\n",
    "\n",
    "# Prepare training features and targets\n",
    "X_train = train_data[feature_cols].values\n",
    "y_train = train_data[target_col].values\n",
    "\n",
    "# Create and train the polynomial regression model\n",
    "model = Pipeline([\n",
    "    ('poly', PolynomialFeatures(degree=poly_degree, include_bias=False)),\n",
    "    ('linear', LinearRegression())\n",
    "])\n",
    "\n",
    "print(f\"\\nTraining polynomial regression model...\")\n",
    "train_start_time = time.time()\n",
    "model.fit(X_train, y_train)\n",
    "training_time = time.time() - train_start_time\n",
    "\n",
    "print(f\"Training completed in {training_time:.4f} seconds\")"
   ]
  },
  {
   "cell_type": "code",
   "execution_count": 96,
   "metadata": {},
   "outputs": [
    {
     "name": "stdout",
     "output_type": "stream",
     "text": [
      "Training Performance:\n",
      "MSE: 3883.346941\n",
      "MAE: 51.969381\n",
      "R²:  0.758484\n",
      "RMSE: 62.316506\n",
      "\n",
      "Test Performance:\n",
      "MSE: 23517927.933157\n",
      "MAE: 731.960991\n",
      "R²:  -1134.606776\n",
      "RMSE: 4849.528630\n",
      "\n",
      "Top 10 Most Important Features (by absolute coefficient value):\n",
      " 1. low^9                    :  -0.000000\n",
      " 2. high^9                   :   0.000000\n",
      " 3. high^8                   :   0.000000\n",
      " 4. high^7 low^2             :  -0.000000\n",
      " 5. high^3 low^6             :   0.000000\n",
      " 6. high^2 low^7             :   0.000000\n",
      " 7. high^7 low               :   0.000000\n",
      " 8. high^6 low^3             :  -0.000000\n",
      " 9. high^8 volume            :   0.000000\n",
      "10. low^8 volume             :   0.000000\n"
     ]
    }
   ],
   "source": [
    "# Evaluation\n",
    "\n",
    "# Evaluate on training set\n",
    "X_train = train_data[feature_cols].values\n",
    "y_train = train_data[target_col].values\n",
    "train_pred = model.predict(X_train)\n",
    "\n",
    "train_mse = mean_squared_error(y_train, train_pred)\n",
    "train_mae = mean_absolute_error(y_train, train_pred)\n",
    "train_r2 = r2_score(y_train, train_pred)\n",
    "train_rmse = np.sqrt(train_mse)\n",
    "\n",
    "print(f\"Training Performance:\")\n",
    "print(f\"MSE: {train_mse:.6f}\")\n",
    "print(f\"MAE: {train_mae:.6f}\")\n",
    "print(f\"R²:  {train_r2:.6f}\")\n",
    "print(f\"RMSE: {train_rmse:.6f}\")\n",
    "\n",
    "# Evaluate on validation set if available\n",
    "if val_data is not None and len(val_data) > 0:\n",
    "    X_val = val_data[feature_cols].values\n",
    "    y_val = val_data[target_col].values\n",
    "    val_pred = model.predict(X_val)\n",
    "    \n",
    "    val_mse = mean_squared_error(y_val, val_pred)\n",
    "    val_mae = mean_absolute_error(y_val, val_pred)\n",
    "    val_r2 = r2_score(y_val, val_pred)\n",
    "    val_rmse = np.sqrt(val_mse)\n",
    "    \n",
    "    print(f\"\\nValidation Performance:\")\n",
    "    print(f\"MSE: {val_mse:.6f}\")\n",
    "    print(f\"MAE: {val_mae:.6f}\")\n",
    "    print(f\"R²:  {val_r2:.6f}\")\n",
    "    print(f\"RMSE: {val_rmse:.6f}\")\n",
    "\n",
    "# Evaluate on test set\n",
    "if test_data is not None and len(test_data) > 0:\n",
    "    X_test = test_data[feature_cols].values\n",
    "    y_test = test_data[target_col].values\n",
    "    test_pred = model.predict(X_test)\n",
    "    \n",
    "    test_mse = mean_squared_error(y_test, test_pred)\n",
    "    test_mae = mean_absolute_error(y_test, test_pred)\n",
    "    test_r2 = r2_score(y_test, test_pred)\n",
    "    test_rmse = np.sqrt(test_mse)\n",
    "    \n",
    "    print(f\"\\nTest Performance:\")\n",
    "    print(f\"MSE: {test_mse:.6f}\")\n",
    "    print(f\"MAE: {test_mae:.6f}\")\n",
    "    print(f\"R²:  {test_r2:.6f}\")\n",
    "    print(f\"RMSE: {test_rmse:.6f}\")\n",
    "\n",
    "# Feature importance analysis\n",
    "feature_names = model.named_steps['poly'].get_feature_names_out(feature_cols)\n",
    "coefficients = model.named_steps['linear'].coef_\n",
    "\n",
    "print(f\"\\nTop 10 Most Important Features (by absolute coefficient value):\")\n",
    "coef_importance = list(zip(feature_names, coefficients))\n",
    "coef_importance.sort(key=lambda x: abs(x[1]), reverse=True)\n",
    "\n",
    "for i, (feature, coef) in enumerate(coef_importance[:10]):\n",
    "    print(f\"{i+1:2d}. {feature:25s}: {coef:10.6f}\")"
   ]
  },
  {
   "cell_type": "code",
   "execution_count": 97,
   "metadata": {
    "id": "TcH-e5UTI559"
   },
   "outputs": [
    {
     "name": "stdout",
     "output_type": "stream",
     "text": [
      "[171.232681   157.9146441  248.32772371 157.93307741 541.81010535\n",
      " 157.9146441  541.81010535 248.32772371 541.81010538 158.9972963 ]\n"
     ]
    }
   ],
   "source": [
    "# Prediction\n",
    "\n",
    "df = pd.read_csv(\"data/test_1.csv\")\n",
    "\n",
    "cleaned_test_data = clean_data(df)\n",
    "\n",
    "# Make predictions on new data\n",
    "def make_predictions(model, new_data, feature_cols):\n",
    "    \"\"\"Make predictions on new data\"\"\"\n",
    "    X_new = new_data[feature_cols].values\n",
    "    predictions = model.predict(X_new)\n",
    "    return predictions\n",
    "\n",
    "# Example: Predict on the test set\n",
    "test_predictions = make_predictions(model, cleaned_test_data, feature_cols)\n",
    "print(test_predictions)"
   ]
  },
  {
   "cell_type": "code",
   "execution_count": 79,
   "metadata": {},
   "outputs": [],
   "source": [
    "# Evaluation (time + metrics)"
   ]
  },
  {
   "cell_type": "code",
   "execution_count": 98,
   "metadata": {
    "id": "Zhk1664ZI559"
   },
   "outputs": [],
   "source": [
    "def plot_regression_performance(figsize=(20, 15)):\n",
    "    \"\"\"\n",
    "    Comprehensive visualization for polynomial regression model performance.\n",
    "    Adapted for regression tasks with improved handling of large datasets.\n",
    "    \"\"\"\n",
    "    \n",
    "    fig, axes = plt.subplots(3, 3, figsize=figsize)\n",
    "    \n",
    "    # Check if we have test data and predictions\n",
    "    if test_data is not None and len(test_data) > 0:\n",
    "        actual = y_test\n",
    "        predicted = test_pred\n",
    "        \n",
    "        # 1. Actual vs Predicted Scatter Plot\n",
    "        axes[0, 0].scatter(actual, predicted, alpha=0.6, color='blue', s=30)\n",
    "        min_val, max_val = min(actual.min(), predicted.min()), max(actual.max(), predicted.max())\n",
    "        axes[0, 0].plot([min_val, max_val], [min_val, max_val], 'r--', lw=2, label='Perfect Prediction')\n",
    "        axes[0, 0].set_xlabel('Actual Values')\n",
    "        axes[0, 0].set_ylabel('Predicted Values')\n",
    "        axes[0, 0].set_title('Actual vs Predicted')\n",
    "        axes[0, 0].legend()\n",
    "        \n",
    "        # Add R² and RMSE to the plot\n",
    "        axes[0, 0].text(0.05, 0.95, f'R² = {test_r2:.3f}\\nRMSE = {test_rmse:.3f}', \n",
    "                       transform=axes[0, 0].transAxes, \n",
    "                       bbox=dict(boxstyle='round', facecolor='white', alpha=0.8),\n",
    "                       verticalalignment='top')\n",
    "        \n",
    "        # 2. Residuals vs Predicted\n",
    "        residuals = actual - predicted\n",
    "        axes[0, 1].scatter(predicted, residuals, alpha=0.6, color='green', s=30)\n",
    "        axes[0, 1].axhline(y=0, color='r', linestyle='--', linewidth=2)\n",
    "        axes[0, 1].set_xlabel('Predicted Values')\n",
    "        axes[0, 1].set_ylabel('Residuals (Actual - Predicted)')\n",
    "        axes[0, 1].set_title('Residuals vs Predicted')\n",
    "        \n",
    "        # Add trend line to residuals\n",
    "        z = np.polyfit(predicted, residuals, 1)\n",
    "        p = np.poly1d(z)\n",
    "        axes[0, 1].plot(sorted(predicted), p(sorted(predicted)), \"orange\", linewidth=2, alpha=0.8)\n",
    "        \n",
    "        # 3. QQ Plot for Residuals (Normality Check)\n",
    "        stats.probplot(residuals, dist=\"norm\", plot=axes[0, 2])\n",
    "        axes[0, 2].set_title('Q-Q Plot of Residuals')\n",
    "        axes[0, 2].grid(True, alpha=0.3)\n",
    "        \n",
    "        # 4. Time Series Plot\n",
    "        axes[1, 0].plot(test_data['timestamp'], actual, label='Actual', alpha=0.8, linewidth=2)\n",
    "        axes[1, 0].plot(test_data['timestamp'], predicted, label='Predicted', alpha=0.8, linewidth=2)\n",
    "        axes[1, 0].set_xlabel('Time')\n",
    "        axes[1, 0].set_ylabel('Stock Price')\n",
    "        axes[1, 0].set_title('Time Series: Actual vs Predicted')\n",
    "        axes[1, 0].legend()\n",
    "        axes[1, 0].tick_params(axis='x', rotation=45)\n",
    "        \n",
    "        # Fill between for visual clarity\n",
    "        axes[1, 0].fill_between(test_data['timestamp'], actual, predicted, alpha=0.2, color='gray')\n",
    "        \n",
    "        # 5. Error Distribution (Histogram of Residuals)\n",
    "        axes[1, 1].hist(residuals, bins=30, alpha=0.7, color='skyblue', edgecolor='black')\n",
    "        axes[1, 1].axvline(residuals.mean(), color='red', linestyle='--', linewidth=2, label=f'Mean: {residuals.mean():.3f}')\n",
    "        axes[1, 1].set_xlabel('Residuals')\n",
    "        axes[1, 1].set_ylabel('Frequency')\n",
    "        axes[1, 1].set_title('Distribution of Residuals')\n",
    "        axes[1, 1].legend()\n",
    "        \n",
    "        # Add normal distribution overlay\n",
    "        mu, sigma = stats.norm.fit(residuals)\n",
    "        x = np.linspace(residuals.min(), residuals.max(), 100)\n",
    "        y = stats.norm.pdf(x, mu, sigma) * len(residuals) * (residuals.max() - residuals.min()) / 30\n",
    "        axes[1, 1].plot(x, y, 'orange', linewidth=2, alpha=0.8, label='Normal Fit')\n",
    "        axes[1, 1].legend()\n",
    "        \n",
    "        # 6. Percentage Error vs Actual Values\n",
    "        percentage_errors = 100 * np.abs(residuals) / np.abs(actual)\n",
    "        axes[1, 2].scatter(actual, percentage_errors, alpha=0.6, color='purple', s=30)\n",
    "        axes[1, 2].set_xlabel('Actual Values')\n",
    "        axes[1, 2].set_ylabel('Absolute Percentage Error (%)')\n",
    "        axes[1, 2].set_title('Percentage Error vs Actual Values')\n",
    "        \n",
    "        # Add MAPE to the plot\n",
    "        mape = mean_absolute_percentage_error(actual, predicted) * 100\n",
    "        axes[1, 2].text(0.05, 0.95, f'MAPE: {mape:.2f}%', \n",
    "                       transform=axes[1, 2].transAxes, \n",
    "                       bbox=dict(boxstyle='round', facecolor='white', alpha=0.8),\n",
    "                       verticalalignment='top')\n",
    "    \n",
    "    # 7. Feature Importance (Top 10)\n",
    "    if len(coef_importance) > 0:\n",
    "        top_features = coef_importance[:10]  # Top 10\n",
    "        features, coeffs = zip(*top_features)\n",
    "        \n",
    "        # Create colors based on coefficient sign\n",
    "        colors = ['red' if c < 0 else 'green' for c in coeffs]\n",
    "        \n",
    "        y_pos = np.arange(len(features))\n",
    "        bars = axes[2, 0].barh(y_pos, [abs(c) for c in coeffs], color=colors, alpha=0.7)\n",
    "        axes[2, 0].set_yticks(y_pos)\n",
    "        axes[2, 0].set_yticklabels([f[:15] + '...' if len(f) > 15 else f for f in features])\n",
    "        axes[2, 0].set_xlabel('Absolute Coefficient Value')\n",
    "        axes[2, 0].set_title('Top 10 Feature Importance')\n",
    "        \n",
    "        # Add legend for colors\n",
    "        axes[2, 0].text(0.7, 0.95, 'Green: Positive\\nRed: Negative', \n",
    "                       transform=axes[2, 0].transAxes,\n",
    "                       bbox=dict(boxstyle='round', facecolor='white', alpha=0.8),\n",
    "                       verticalalignment='top')\n",
    "    \n",
    "    # 8. Model Performance Metrics Summary\n",
    "    axes[2, 1].axis('off')\n",
    "    \n",
    "    # Create metrics summary text\n",
    "    metrics_text = \"Model Performance Summary\\n\" + \"=\"*30 + \"\\n\\n\"\n",
    "    \n",
    "    metrics_text += \"Training Metrics:\\n\"\n",
    "    metrics_text += f\"  R² Score: {train_r2:.4f}\\n\"\n",
    "    metrics_text += f\"  RMSE: {train_rmse:.4f}\\n\"\n",
    "    metrics_text += f\"  MAE: {train_mae:.4f}\\n\\n\"\n",
    "    \n",
    "    if val_data is not None and len(val_data) > 0:\n",
    "        metrics_text += \"Validation Metrics:\\n\"\n",
    "        metrics_text += f\"  R² Score: {val_r2:.4f}\\n\"\n",
    "        metrics_text += f\"  RMSE: {val_rmse:.4f}\\n\"\n",
    "        metrics_text += f\"  MAE: {val_mae:.4f}\\n\\n\"\n",
    "    \n",
    "    if test_data is not None and len(test_data) > 0:\n",
    "        metrics_text += \"Test Metrics:\\n\"\n",
    "        metrics_text += f\"  R² Score: {test_r2:.4f}\\n\"\n",
    "        metrics_text += f\"  RMSE: {test_rmse:.4f}\\n\"\n",
    "        metrics_text += f\"  MAE: {test_mae:.4f}\\n\"\n",
    "        mape = mean_absolute_percentage_error(actual, predicted) * 100\n",
    "        metrics_text += f\"  MAPE: {mape:.2f}%\\n\"\n",
    "    \n",
    "    metrics_text += f\"\\nTraining Time: {training_time:.4f} seconds\"\n",
    "    \n",
    "    axes[2, 1].text(0.05, 0.95, metrics_text, transform=axes[2, 1].transAxes, \n",
    "                   fontsize=11, verticalalignment='top', fontfamily='monospace',\n",
    "                   bbox=dict(boxstyle='round,pad=0.5', facecolor='lightgray', alpha=0.8))\n",
    "    \n",
    "    # 9. Train vs Test Performance Comparison\n",
    "    if test_data is not None and len(test_data) > 0:\n",
    "        metrics_names = ['R² Score', 'RMSE', 'MAE']\n",
    "        train_scores = [train_r2, train_rmse, train_mae]\n",
    "        test_scores = [test_r2, test_rmse, test_mae]\n",
    "        \n",
    "        if val_data is not None and len(val_data) > 0:\n",
    "            val_scores = [val_r2, val_rmse, val_mae]\n",
    "            \n",
    "            x = np.arange(len(metrics_names))\n",
    "            width = 0.25\n",
    "            \n",
    "            axes[2, 2].bar(x - width, train_scores, width, label='Train', alpha=0.8)\n",
    "            axes[2, 2].bar(x, val_scores, width, label='Validation', alpha=0.8)\n",
    "            axes[2, 2].bar(x + width, test_scores, width, label='Test', alpha=0.8)\n",
    "        else:\n",
    "            x = np.arange(len(metrics_names))\n",
    "            width = 0.35\n",
    "            \n",
    "            axes[2, 2].bar(x - width/2, train_scores, width, label='Train', alpha=0.8)\n",
    "            axes[2, 2].bar(x + width/2, test_scores, width, label='Test', alpha=0.8)\n",
    "        \n",
    "        axes[2, 2].set_xlabel('Metrics')\n",
    "        axes[2, 2].set_ylabel('Score')\n",
    "        axes[2, 2].set_title('Train vs Test Performance')\n",
    "        axes[2, 2].set_xticks(x)\n",
    "        axes[2, 2].set_xticklabels(metrics_names)\n",
    "        axes[2, 2].legend()\n",
    "        axes[2, 2].grid(True, alpha=0.3)\n",
    "    \n",
    "    plt.tight_layout()\n",
    "    plt.show()"
   ]
  },
  {
   "cell_type": "code",
   "execution_count": 95,
   "metadata": {
    "scrolled": true
   },
   "outputs": [
    {
     "ename": "NameError",
     "evalue": "name 'y_test' is not defined",
     "output_type": "error",
     "traceback": [
      "\u001b[31m---------------------------------------------------------------------------\u001b[39m",
      "\u001b[31mNameError\u001b[39m                                 Traceback (most recent call last)",
      "\u001b[36mCell\u001b[39m\u001b[36m \u001b[39m\u001b[32mIn[95]\u001b[39m\u001b[32m, line 2\u001b[39m\n\u001b[32m      1\u001b[39m \u001b[38;5;66;03m# Usage\u001b[39;00m\n\u001b[32m----> \u001b[39m\u001b[32m2\u001b[39m \u001b[43mplot_regression_performance\u001b[49m\u001b[43m(\u001b[49m\u001b[43m)\u001b[49m\n",
      "\u001b[36mCell\u001b[39m\u001b[36m \u001b[39m\u001b[32mIn[94]\u001b[39m\u001b[32m, line 18\u001b[39m, in \u001b[36mplot_regression_performance\u001b[39m\u001b[34m(figsize)\u001b[39m\n\u001b[32m     16\u001b[39m \u001b[38;5;66;03m# Check if we have test data and predictions\u001b[39;00m\n\u001b[32m     17\u001b[39m \u001b[38;5;28;01mif\u001b[39;00m test_data \u001b[38;5;129;01mis\u001b[39;00m \u001b[38;5;129;01mnot\u001b[39;00m \u001b[38;5;28;01mNone\u001b[39;00m \u001b[38;5;129;01mand\u001b[39;00m \u001b[38;5;28mlen\u001b[39m(test_data) > \u001b[32m0\u001b[39m:\n\u001b[32m---> \u001b[39m\u001b[32m18\u001b[39m     actual = \u001b[43my_test\u001b[49m\n\u001b[32m     19\u001b[39m     predicted = test_pred\n\u001b[32m     21\u001b[39m     \u001b[38;5;66;03m# 1. Actual vs Predicted Scatter Plot\u001b[39;00m\n",
      "\u001b[31mNameError\u001b[39m: name 'y_test' is not defined"
     ]
    },
    {
     "data": {
      "image/png": "[encoded data removed]",
      "text/plain": [
       "<Figure size 2000x1500 with 9 Axes>"
      ]
     },
     "metadata": {},
     "output_type": "display_data"
    }
   ],
   "source": [
    "# Usage\n",
    "plot_regression_performance()"
   ]
  },
  {
   "cell_type": "code",
   "execution_count": null,
   "metadata": {
    "id": "OQTnJ1ksI55_"
   },
   "outputs": [],
   "source": [
    "# Shap (waterfall plot / beeswarm / shap heatmap / shap decision plot / dependence plot)"
   ]
  }
 ],
 "metadata": {
  "colab": {
   "include_colab_link": true,
   "provenance": []
  },
  "kernelspec": {
   "display_name": "Python 3 (ipykernel)",
   "language": "python",
   "name": "python3"
  },
  "language_info": {
   "codemirror_mode": {
    "name": "ipython",
    "version": 3
   },
   "file_extension": ".py",
   "mimetype": "text/x-python",
   "name": "python",
   "nbconvert_exporter": "python",
   "pygments_lexer": "ipython3",
   "version": "3.12.6"
  }
 },
 "nbformat": 4,
 "nbformat_minor": 4
}
