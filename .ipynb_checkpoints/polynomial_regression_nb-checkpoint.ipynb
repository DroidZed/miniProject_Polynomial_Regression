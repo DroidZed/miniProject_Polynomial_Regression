{
 "cells": [
  {
   "cell_type": "markdown",
   "metadata": {
    "id": "vhqHxUMf9B6K",
    "jp-MarkdownHeadingCollapsed": true
   },
   "source": [
    "# Prediction of the Crypto Market Cap Growth"
   ]
  },
  {
   "cell_type": "markdown",
   "metadata": {
    "id": "sostbOAt9J3k"
   },
   "source": [
    "This notebook serves as an analysis tool for the Crypto market. It explores a 24-hour updating [dataset](https://www.kaggle.com/datasets/adrianjuliusaluoch/crypto-and-stock-market-data-for-financial-analysis) to approximate the deviation in exchange and understand the market growth trajectory."
   ]
  },
  {
   "cell_type": "markdown",
   "metadata": {
    "id": "RXUMG-rH9rTe",
    "jp-MarkdownHeadingCollapsed": true
   },
   "source": [
    "# Project Overview\n",
    "\n",
    "- **Data Analysis**: Analyse the dataset, display graphs to understand relationships and split the data for training and testing.\n",
    "- **Cross validation**: test the model using Time Series Cross-validation and visualise its performance on new data.\n",
    "- **Model training and evaluation**: Train the model on the training data.\n",
    "- **Visualisation**: visualise the resulsts across testings to compare the predictions's accuracy."
   ]
  },
  {
   "attachments": {},
   "cell_type": "markdown",
   "metadata": {
    "id": "Pywp21t59o0F"
   },
   "source": [
    "# Polynomial Regression"
   ]
  },
  {
   "cell_type": "markdown",
   "metadata": {},
   "source": [
    "## Recap: what is a polynomial?\n",
    "\n",
    "In mathematics, a polynomial is a mathematical expression consisting of indeterminates (also called variables) and coefficients, that involves only the operations of addition, subtraction, multiplication and exponentiation to nonnegative integer powers, and has a finite number of terms. An example of a polynomial of a single indeterminate $x$ is $P(X)=x²-4x+7$. With three indeterminates: $P(X)=x^{3}+2xyz^{2}-yz+1$.\n",
    "\n",
    "The order/degree of a polynomial is the value of its biggest power: A polynomial of order 2 can constist of at most power 2 variables: $P(X)=x + 4x²$. It's not necessary for all the powers of $x$ to be present. We can have a singular (not very useful) variable polynomial ($\\alpha * x²$) and still be called an order 2 polynomial."
   ]
  },
  {
   "cell_type": "markdown",
   "metadata": {},
   "source": [
    "## The math behind Polynomial Regression:\n",
    "\n",
    "In statistics, it is a form of regression analysis in which the relationship between the independent variable $x$ and the dependent variable $y$ is modeled as a polynomial $y=P(X)$. Therefore, the model won't be able to fit a non linear data as it will fail to understand the relationships between data points resulting from $n$-power polynomials.\n",
    "\n",
    "At a mathematical level, a ploynomial regression should look like this:\n",
    "\n",
    "$$y = \\beta₀ + \\beta₁x + \\beta₂x² + \\beta₃x³ + … + \\betaₙxⁿ + \\epsilon$$\n",
    "\n",
    "Where:\n",
    "- $y$ -> Dependent variable (what you’re predicting).\n",
    "- $x$ -> Independent variable (your input).\n",
    "- $\\beta₀, \\beta₁, \\beta₂, …, \\betaₙ$ -> Coefficients for each degree of $x$.\n",
    "- $x², x³, …, xⁿ$: higher-order terms that add more flexibility.\n",
    "- $\\epsilon$ -> The error/risidual term from calculations."
   ]
  },
  {
   "cell_type": "markdown",
   "metadata": {},
   "source": [
    "## Key terms:\n",
    "\n",
    "* **Outlier**: An outlier is an observation that lies an abnormal distance from other values in a random sample from a population.\n",
    "\n",
    "* **Underfitting**: When your model is too simple to capture the underlying pattern in the data. Imagine trying to fit a straight line to a dataset that clearly follows a curve. Linear regression, while simple, can suffer from underfitting when the relationship isn’t linear.\n",
    "\n",
    "* **Overfitting**: It occurs when your model is too complex, capturing every tiny fluctuation in the data, including noise. This might make your training performance look stellar, but when new data comes along, the model falls apart."
   ]
  },
  {
   "attachments": {
    "229b7c0c-9823-4090-9b1f-ac14ba028a63.webp": {
     "image/webp": "[encoded data removed]"
    }
   },
   "cell_type": "markdown",
   "metadata": {},
   "source": [
    "## Comparison with Linear model\n",
    "\n",
    "<center>\n",
    "    <img src=\"attachment:229b7c0c-9823-4090-9b1f-ac14ba028a63.webp\" alt=\"Comparison with Linear model\" style=\"margin:auto\" />\n",
    "</center>\n",
    "<br>\n",
    "\n",
    "At its core, polynomial regression is an extension of linear regression. But some differences are present making it more suitable for real world scenarios:\n",
    "\n",
    "|                     \t| Polynomial Regression           \t| Linear Regression                                \t|\n",
    "|-----------------------|-----------------------------------|---------------------------------------------------|\n",
    "| Type of data to use \t| Unstable data                   \t| Linear data. Assumes a constant rate of change.  \t|\n",
    "| Graph shape         \t| Curves                          \t| Straight line                                    \t|\n",
    "| Complexity          \t| Complex to read and manipulate. \t| Easier to read, understand and lighter to compute |"
   ]
  },
  {
   "cell_type": "markdown",
   "metadata": {},
   "source": [
    "## Use-cases\n",
    "\n",
    "Thanks to its flexibility, polynomial regression can easily handle real world data. A modal fit for constant change with non linear progression.\n",
    "\n",
    "Polynomial regression finds its way in various real world scenarios, including but not limited to:\n",
    "- **Finance**: modeling stock trends.\n",
    "- **Health-care**: predicting growth patterns.\n",
    "- **Manufacturing**: analysing system performance curves."
   ]
  },
  {
   "cell_type": "markdown",
   "metadata": {
    "jp-MarkdownHeadingCollapsed": true
   },
   "source": [
    "## Pros and pitfalls\n",
    "**Pros:**\n",
    "- **Flexibility**: Can model a wide range of relationships.\n",
    "- **Better Fit**: Can capture non-linear trends in the data.\n",
    "- **Varied applicability**: Thanks to its flexible nature, we can explore a wide range of fields with volatile behavior.\n",
    "\n",
    "**Pitfalls:**\n",
    "- **Computational Complexity**: As the degree of the polynomial increases, so does the computational cost.\n",
    "- **Overfitting & Underfitting**: Prone to overfitting with higher-degree polynomials and underfitting with low-degrees. Therefore we need cross validation to reduce errors.\n",
    "- **Sensitivity to Outliers**: More sensitive to outliers compared to linear regression."
   ]
  },
  {
   "cell_type": "markdown",
   "metadata": {
    "id": "k1Lo2rHj9tPR"
   },
   "source": [
    "# Environment Preparation"
   ]
  },
  {
   "cell_type": "code",
   "execution_count": 1,
   "metadata": {},
   "outputs": [
    {
     "name": "stdout",
     "output_type": "stream",
     "text": [
      "Requirement already satisfied: pandas in e:\\ai_lecture\\miniproject_polynomial_regression\\.venv\\lib\\site-packages (2.3.2)\n",
      "Requirement already satisfied: numpy>=1.26.0 in e:\\ai_lecture\\miniproject_polynomial_regression\\.venv\\lib\\site-packages (from pandas) (2.3.3)\n",
      "Requirement already satisfied: python-dateutil>=2.8.2 in e:\\ai_lecture\\miniproject_polynomial_regression\\.venv\\lib\\site-packages (from pandas) (2.9.0.post0)\n",
      "Requirement already satisfied: pytz>=2020.1 in e:\\ai_lecture\\miniproject_polynomial_regression\\.venv\\lib\\site-packages (from pandas) (2025.2)\n",
      "Requirement already satisfied: tzdata>=2022.7 in e:\\ai_lecture\\miniproject_polynomial_regression\\.venv\\lib\\site-packages (from pandas) (2025.2)\n",
      "Requirement already satisfied: six>=1.5 in e:\\ai_lecture\\miniproject_polynomial_regression\\.venv\\lib\\site-packages (from python-dateutil>=2.8.2->pandas) (1.17.0)\n",
      "Note: you may need to restart the kernel to use updated packages.\n",
      "Requirement already satisfied: numpy in e:\\ai_lecture\\miniproject_polynomial_regression\\.venv\\lib\\site-packages (2.3.3)\n",
      "Note: you may need to restart the kernel to use updated packages.\n",
      "Requirement already satisfied: matplotlib in e:\\ai_lecture\\miniproject_polynomial_regression\\.venv\\lib\\site-packages (3.10.6)\n",
      "Requirement already satisfied: contourpy>=1.0.1 in e:\\ai_lecture\\miniproject_polynomial_regression\\.venv\\lib\\site-packages (from matplotlib) (1.3.3)\n",
      "Requirement already satisfied: cycler>=0.10 in e:\\ai_lecture\\miniproject_polynomial_regression\\.venv\\lib\\site-packages (from matplotlib) (0.12.1)\n",
      "Requirement already satisfied: fonttools>=4.22.0 in e:\\ai_lecture\\miniproject_polynomial_regression\\.venv\\lib\\site-packages (from matplotlib) (4.60.0)\n",
      "Requirement already satisfied: kiwisolver>=1.3.1 in e:\\ai_lecture\\miniproject_polynomial_regression\\.venv\\lib\\site-packages (from matplotlib) (1.4.9)\n",
      "Requirement already satisfied: numpy>=1.23 in e:\\ai_lecture\\miniproject_polynomial_regression\\.venv\\lib\\site-packages (from matplotlib) (2.3.3)\n",
      "Requirement already satisfied: packaging>=20.0 in e:\\ai_lecture\\miniproject_polynomial_regression\\.venv\\lib\\site-packages (from matplotlib) (25.0)\n",
      "Requirement already satisfied: pillow>=8 in e:\\ai_lecture\\miniproject_polynomial_regression\\.venv\\lib\\site-packages (from matplotlib) (11.3.0)\n",
      "Requirement already satisfied: pyparsing>=2.3.1 in e:\\ai_lecture\\miniproject_polynomial_regression\\.venv\\lib\\site-packages (from matplotlib) (3.2.4)\n",
      "Requirement already satisfied: python-dateutil>=2.7 in e:\\ai_lecture\\miniproject_polynomial_regression\\.venv\\lib\\site-packages (from matplotlib) (2.9.0.post0)\n",
      "Requirement already satisfied: six>=1.5 in e:\\ai_lecture\\miniproject_polynomial_regression\\.venv\\lib\\site-packages (from python-dateutil>=2.7->matplotlib) (1.17.0)\n",
      "Note: you may need to restart the kernel to use updated packages.\n",
      "Requirement already satisfied: seaborn in e:\\ai_lecture\\miniproject_polynomial_regression\\.venv\\lib\\site-packages (0.13.2)\n",
      "Requirement already satisfied: numpy!=1.24.0,>=1.20 in e:\\ai_lecture\\miniproject_polynomial_regression\\.venv\\lib\\site-packages (from seaborn) (2.3.3)\n",
      "Requirement already satisfied: pandas>=1.2 in e:\\ai_lecture\\miniproject_polynomial_regression\\.venv\\lib\\site-packages (from seaborn) (2.3.2)\n",
      "Requirement already satisfied: matplotlib!=3.6.1,>=3.4 in e:\\ai_lecture\\miniproject_polynomial_regression\\.venv\\lib\\site-packages (from seaborn) (3.10.6)\n",
      "Requirement already satisfied: contourpy>=1.0.1 in e:\\ai_lecture\\miniproject_polynomial_regression\\.venv\\lib\\site-packages (from matplotlib!=3.6.1,>=3.4->seaborn) (1.3.3)\n",
      "Requirement already satisfied: cycler>=0.10 in e:\\ai_lecture\\miniproject_polynomial_regression\\.venv\\lib\\site-packages (from matplotlib!=3.6.1,>=3.4->seaborn) (0.12.1)\n",
      "Requirement already satisfied: fonttools>=4.22.0 in e:\\ai_lecture\\miniproject_polynomial_regression\\.venv\\lib\\site-packages (from matplotlib!=3.6.1,>=3.4->seaborn) (4.60.0)\n",
      "Requirement already satisfied: kiwisolver>=1.3.1 in e:\\ai_lecture\\miniproject_polynomial_regression\\.venv\\lib\\site-packages (from matplotlib!=3.6.1,>=3.4->seaborn) (1.4.9)\n",
      "Requirement already satisfied: packaging>=20.0 in e:\\ai_lecture\\miniproject_polynomial_regression\\.venv\\lib\\site-packages (from matplotlib!=3.6.1,>=3.4->seaborn) (25.0)\n",
      "Requirement already satisfied: pillow>=8 in e:\\ai_lecture\\miniproject_polynomial_regression\\.venv\\lib\\site-packages (from matplotlib!=3.6.1,>=3.4->seaborn) (11.3.0)\n",
      "Requirement already satisfied: pyparsing>=2.3.1 in e:\\ai_lecture\\miniproject_polynomial_regression\\.venv\\lib\\site-packages (from matplotlib!=3.6.1,>=3.4->seaborn) (3.2.4)\n",
      "Requirement already satisfied: python-dateutil>=2.7 in e:\\ai_lecture\\miniproject_polynomial_regression\\.venv\\lib\\site-packages (from matplotlib!=3.6.1,>=3.4->seaborn) (2.9.0.post0)\n",
      "Requirement already satisfied: pytz>=2020.1 in e:\\ai_lecture\\miniproject_polynomial_regression\\.venv\\lib\\site-packages (from pandas>=1.2->seaborn) (2025.2)\n",
      "Requirement already satisfied: tzdata>=2022.7 in e:\\ai_lecture\\miniproject_polynomial_regression\\.venv\\lib\\site-packages (from pandas>=1.2->seaborn) (2025.2)\n",
      "Requirement already satisfied: six>=1.5 in e:\\ai_lecture\\miniproject_polynomial_regression\\.venv\\lib\\site-packages (from python-dateutil>=2.7->matplotlib!=3.6.1,>=3.4->seaborn) (1.17.0)\n",
      "Note: you may need to restart the kernel to use updated packages.\n",
      "Requirement already satisfied: scikit-learn in e:\\ai_lecture\\miniproject_polynomial_regression\\.venv\\lib\\site-packages (1.7.2)\n",
      "Requirement already satisfied: numpy>=1.22.0 in e:\\ai_lecture\\miniproject_polynomial_regression\\.venv\\lib\\site-packages (from scikit-learn) (2.3.3)\n",
      "Requirement already satisfied: scipy>=1.8.0 in e:\\ai_lecture\\miniproject_polynomial_regression\\.venv\\lib\\site-packages (from scikit-learn) (1.16.2)\n",
      "Requirement already satisfied: joblib>=1.2.0 in e:\\ai_lecture\\miniproject_polynomial_regression\\.venv\\lib\\site-packages (from scikit-learn) (1.5.2)\n",
      "Requirement already satisfied: threadpoolctl>=3.1.0 in e:\\ai_lecture\\miniproject_polynomial_regression\\.venv\\lib\\site-packages (from scikit-learn) (3.6.0)\n",
      "Note: you may need to restart the kernel to use updated packages.\n",
      "Requirement already satisfied: scipy in e:\\ai_lecture\\miniproject_polynomial_regression\\.venv\\lib\\site-packages (1.16.2)\n",
      "Requirement already satisfied: numpy<2.6,>=1.25.2 in e:\\ai_lecture\\miniproject_polynomial_regression\\.venv\\lib\\site-packages (from scipy) (2.3.3)\n",
      "Note: you may need to restart the kernel to use updated packages.\n"
     ]
    }
   ],
   "source": [
    "# Libraries installation\n",
    "%pip install pandas\n",
    "%pip install numpy\n",
    "%pip install matplotlib\n",
    "%pip install seaborn\n",
    "%pip install scikit-learn\n",
    "%pip install scipy"
   ]
  },
  {
   "cell_type": "code",
   "execution_count": 2,
   "metadata": {},
   "outputs": [
    {
     "name": "stdout",
     "output_type": "stream",
     "text": [
      "Pandas version: 2.3.2\n",
      "numpy version: 2.3.3\n",
      "matplotlib version: 3.10.6\n",
      "seaborn version: 0.13.2\n",
      "scikit-learn version: 1.7.2\n",
      "scipy version: 1.16.2\n"
     ]
    }
   ],
   "source": [
    "# Importing libraries (just check the correctness of the import by showing the version)\n",
    "import pandas as pd\n",
    "import numpy as np\n",
    "import matplotlib as mtb\n",
    "import matplotlib.pyplot as plt\n",
    "import seaborn as sb\n",
    "import sklearn\n",
    "import scipy as scp\n",
    "\n",
    "print(f\"Pandas version: {pd.__version__}\")\n",
    "print(f\"numpy version: {np.__version__}\")\n",
    "print(f\"matplotlib version: {mtb.__version__}\")\n",
    "print(f\"seaborn version: {sb.__version__}\")\n",
    "print(f\"scikit-learn version: {sklearn.__version__}\")\n",
    "print(f\"scipy version: {scp.__version__}\")"
   ]
  },
  {
   "cell_type": "code",
   "execution_count": 3,
   "metadata": {},
   "outputs": [],
   "source": [
    "# Load dataset (show data shape, print first n lines of the data)\n",
    "\n",
    "data = pd.read_csv(\"data/stocks.csv\")"
   ]
  },
  {
   "cell_type": "code",
   "execution_count": 4,
   "metadata": {},
   "outputs": [
    {
     "name": "stdout",
     "output_type": "stream",
     "text": [
      "data Shape = (135328, 9)\n"
     ]
    }
   ],
   "source": [
    "print(f\"data Shape = {data.shape}\")"
   ]
  },
  {
   "cell_type": "code",
   "execution_count": 5,
   "metadata": {},
   "outputs": [
    {
     "name": "stdout",
     "output_type": "stream",
     "text": [
      "First 10 lines of the data\n"
     ]
    },
    {
     "data": {
      "text/html": [
       "<div>\n",
       "<style scoped>\n",
       "    .dataframe tbody tr th:only-of-type {\n",
       "        vertical-align: middle;\n",
       "    }\n",
       "\n",
       "    .dataframe tbody tr th {\n",
       "        vertical-align: top;\n",
       "    }\n",
       "\n",
       "    .dataframe thead th {\n",
       "        text-align: right;\n",
       "    }\n",
       "</style>\n",
       "<table border=\"1\" class=\"dataframe\">\n",
       "  <thead>\n",
       "    <tr style=\"text-align: right;\">\n",
       "      <th></th>\n",
       "      <th>timestamp</th>\n",
       "      <th>name</th>\n",
       "      <th>last</th>\n",
       "      <th>high</th>\n",
       "      <th>low</th>\n",
       "      <th>chg_</th>\n",
       "      <th>chg_%</th>\n",
       "      <th>vol_</th>\n",
       "      <th>time</th>\n",
       "    </tr>\n",
       "  </thead>\n",
       "  <tbody>\n",
       "    <tr>\n",
       "      <th>0</th>\n",
       "      <td>2025-09-18 02:00:00</td>\n",
       "      <td>Boeing</td>\n",
       "      <td>214.68</td>\n",
       "      <td>218.05</td>\n",
       "      <td>213.13</td>\n",
       "      <td>-0.34</td>\n",
       "      <td>-0.16%</td>\n",
       "      <td>5.31M</td>\n",
       "      <td>15:59:59</td>\n",
       "    </tr>\n",
       "    <tr>\n",
       "      <th>1</th>\n",
       "      <td>2025-09-18 02:00:00</td>\n",
       "      <td>Chevron</td>\n",
       "      <td>160.10</td>\n",
       "      <td>160.67</td>\n",
       "      <td>158.61</td>\n",
       "      <td>0.56</td>\n",
       "      <td>+0.35%</td>\n",
       "      <td>4.02M</td>\n",
       "      <td>15:59:59</td>\n",
       "    </tr>\n",
       "    <tr>\n",
       "      <th>2</th>\n",
       "      <td>2025-09-18 02:00:00</td>\n",
       "      <td>Citigroup</td>\n",
       "      <td>101.76</td>\n",
       "      <td>102.21</td>\n",
       "      <td>100.41</td>\n",
       "      <td>1.12</td>\n",
       "      <td>+1.11%</td>\n",
       "      <td>13.61M</td>\n",
       "      <td>15:59:59</td>\n",
       "    </tr>\n",
       "    <tr>\n",
       "      <th>3</th>\n",
       "      <td>2025-09-18 02:00:00</td>\n",
       "      <td>Caterpillar</td>\n",
       "      <td>450.62</td>\n",
       "      <td>452.34</td>\n",
       "      <td>443.00</td>\n",
       "      <td>9.95</td>\n",
       "      <td>+2.26%</td>\n",
       "      <td>4.31M</td>\n",
       "      <td>15:59:59</td>\n",
       "    </tr>\n",
       "    <tr>\n",
       "      <th>4</th>\n",
       "      <td>2025-09-18 01:30:00</td>\n",
       "      <td>Walt Disney</td>\n",
       "      <td>116.11</td>\n",
       "      <td>116.66</td>\n",
       "      <td>115.22</td>\n",
       "      <td>0.88</td>\n",
       "      <td>+0.76%</td>\n",
       "      <td>5.57M</td>\n",
       "      <td>15:59:59</td>\n",
       "    </tr>\n",
       "    <tr>\n",
       "      <th>5</th>\n",
       "      <td>2025-09-18 01:30:00</td>\n",
       "      <td>Cisco</td>\n",
       "      <td>67.72</td>\n",
       "      <td>67.88</td>\n",
       "      <td>66.38</td>\n",
       "      <td>0.79</td>\n",
       "      <td>+1.18%</td>\n",
       "      <td>17.52M</td>\n",
       "      <td>15:59:59</td>\n",
       "    </tr>\n",
       "    <tr>\n",
       "      <th>6</th>\n",
       "      <td>2025-09-18 01:30:00</td>\n",
       "      <td>Goldman Sachs</td>\n",
       "      <td>794.22</td>\n",
       "      <td>798.57</td>\n",
       "      <td>785.23</td>\n",
       "      <td>8.69</td>\n",
       "      <td>+1.11%</td>\n",
       "      <td>1.79M</td>\n",
       "      <td>15:59:59</td>\n",
       "    </tr>\n",
       "    <tr>\n",
       "      <th>7</th>\n",
       "      <td>2025-09-18 01:30:00</td>\n",
       "      <td>JPMorgan</td>\n",
       "      <td>311.75</td>\n",
       "      <td>312.91</td>\n",
       "      <td>308.77</td>\n",
       "      <td>2.56</td>\n",
       "      <td>+0.83%</td>\n",
       "      <td>8.41M</td>\n",
       "      <td>15:59:59</td>\n",
       "    </tr>\n",
       "    <tr>\n",
       "      <th>8</th>\n",
       "      <td>2025-09-18 01:30:00</td>\n",
       "      <td>Coca-Cola</td>\n",
       "      <td>67.04</td>\n",
       "      <td>67.13</td>\n",
       "      <td>66.41</td>\n",
       "      <td>0.80</td>\n",
       "      <td>+1.20%</td>\n",
       "      <td>12.43M</td>\n",
       "      <td>15:59:59</td>\n",
       "    </tr>\n",
       "    <tr>\n",
       "      <th>9</th>\n",
       "      <td>2025-09-18 01:30:00</td>\n",
       "      <td>McDonald’s</td>\n",
       "      <td>305.00</td>\n",
       "      <td>306.58</td>\n",
       "      <td>303.91</td>\n",
       "      <td>1.71</td>\n",
       "      <td>+0.56%</td>\n",
       "      <td>2.59M</td>\n",
       "      <td>15:59:59</td>\n",
       "    </tr>\n",
       "  </tbody>\n",
       "</table>\n",
       "</div>"
      ],
      "text/plain": [
       "             timestamp           name    last    high     low  chg_   chg_%  \\\n",
       "0  2025-09-18 02:00:00         Boeing  214.68  218.05  213.13 -0.34  -0.16%   \n",
       "1  2025-09-18 02:00:00        Chevron  160.10  160.67  158.61  0.56  +0.35%   \n",
       "2  2025-09-18 02:00:00      Citigroup  101.76  102.21  100.41  1.12  +1.11%   \n",
       "3  2025-09-18 02:00:00    Caterpillar  450.62  452.34  443.00  9.95  +2.26%   \n",
       "4  2025-09-18 01:30:00    Walt Disney  116.11  116.66  115.22  0.88  +0.76%   \n",
       "5  2025-09-18 01:30:00          Cisco   67.72   67.88   66.38  0.79  +1.18%   \n",
       "6  2025-09-18 01:30:00  Goldman Sachs  794.22  798.57  785.23  8.69  +1.11%   \n",
       "7  2025-09-18 01:30:00       JPMorgan  311.75  312.91  308.77  2.56  +0.83%   \n",
       "8  2025-09-18 01:30:00      Coca-Cola   67.04   67.13   66.41  0.80  +1.20%   \n",
       "9  2025-09-18 01:30:00     McDonald’s  305.00  306.58  303.91  1.71  +0.56%   \n",
       "\n",
       "     vol_      time  \n",
       "0   5.31M  15:59:59  \n",
       "1   4.02M  15:59:59  \n",
       "2  13.61M  15:59:59  \n",
       "3   4.31M  15:59:59  \n",
       "4   5.57M  15:59:59  \n",
       "5  17.52M  15:59:59  \n",
       "6   1.79M  15:59:59  \n",
       "7   8.41M  15:59:59  \n",
       "8  12.43M  15:59:59  \n",
       "9   2.59M  15:59:59  "
      ]
     },
     "execution_count": 5,
     "metadata": {},
     "output_type": "execute_result"
    }
   ],
   "source": [
    "# Printing the first N lines of the data\n",
    "n = 10\n",
    "print(f\"First {n} lines of the data\")\n",
    "data.head(n)"
   ]
  },
  {
   "cell_type": "markdown",
   "metadata": {
    "id": "Ww_bbXIB9u2P"
   },
   "source": [
    "# Data Analysis"
   ]
  },
  {
   "cell_type": "code",
   "execution_count": 6,
   "metadata": {},
   "outputs": [],
   "source": [
    "# Clean and process data (show data shape)"
   ]
  },
  {
   "cell_type": "code",
   "execution_count": 7,
   "metadata": {},
   "outputs": [
    {
     "name": "stdout",
     "output_type": "stream",
     "text": [
      "Dataframe columns: Index(['timestamp', 'name', 'last', 'high', 'low', 'chg_', 'chg_%', 'vol_',\n",
      "       'time'],\n",
      "      dtype='object')\n",
      "\n",
      "Visualising the new data with updated columns and cleaned rows:\n"
     ]
    },
    {
     "data": {
      "text/html": [
       "<div>\n",
       "<style scoped>\n",
       "    .dataframe tbody tr th:only-of-type {\n",
       "        vertical-align: middle;\n",
       "    }\n",
       "\n",
       "    .dataframe tbody tr th {\n",
       "        vertical-align: top;\n",
       "    }\n",
       "\n",
       "    .dataframe thead th {\n",
       "        text-align: right;\n",
       "    }\n",
       "</style>\n",
       "<table border=\"1\" class=\"dataframe\">\n",
       "  <thead>\n",
       "    <tr style=\"text-align: right;\">\n",
       "      <th></th>\n",
       "      <th>timestamp</th>\n",
       "      <th>name</th>\n",
       "      <th>last</th>\n",
       "      <th>high</th>\n",
       "      <th>low</th>\n",
       "      <th>change</th>\n",
       "      <th>change_percentage</th>\n",
       "      <th>volume</th>\n",
       "      <th>time</th>\n",
       "    </tr>\n",
       "  </thead>\n",
       "  <tbody>\n",
       "    <tr>\n",
       "      <th>0</th>\n",
       "      <td>2025-09-18 02:00:00</td>\n",
       "      <td>Boeing</td>\n",
       "      <td>214.68</td>\n",
       "      <td>218.05</td>\n",
       "      <td>213.13</td>\n",
       "      <td>-0.34</td>\n",
       "      <td>-0.16</td>\n",
       "      <td>5.31</td>\n",
       "      <td>15:59:59</td>\n",
       "    </tr>\n",
       "    <tr>\n",
       "      <th>1</th>\n",
       "      <td>2025-09-18 02:00:00</td>\n",
       "      <td>Chevron</td>\n",
       "      <td>160.10</td>\n",
       "      <td>160.67</td>\n",
       "      <td>158.61</td>\n",
       "      <td>0.56</td>\n",
       "      <td>0.35</td>\n",
       "      <td>4.02</td>\n",
       "      <td>15:59:59</td>\n",
       "    </tr>\n",
       "    <tr>\n",
       "      <th>2</th>\n",
       "      <td>2025-09-18 02:00:00</td>\n",
       "      <td>Citigroup</td>\n",
       "      <td>101.76</td>\n",
       "      <td>102.21</td>\n",
       "      <td>100.41</td>\n",
       "      <td>1.12</td>\n",
       "      <td>1.11</td>\n",
       "      <td>13.61</td>\n",
       "      <td>15:59:59</td>\n",
       "    </tr>\n",
       "    <tr>\n",
       "      <th>3</th>\n",
       "      <td>2025-09-18 02:00:00</td>\n",
       "      <td>Caterpillar</td>\n",
       "      <td>450.62</td>\n",
       "      <td>452.34</td>\n",
       "      <td>443.00</td>\n",
       "      <td>9.95</td>\n",
       "      <td>2.26</td>\n",
       "      <td>4.31</td>\n",
       "      <td>15:59:59</td>\n",
       "    </tr>\n",
       "    <tr>\n",
       "      <th>4</th>\n",
       "      <td>2025-09-18 01:30:00</td>\n",
       "      <td>Walt Disney</td>\n",
       "      <td>116.11</td>\n",
       "      <td>116.66</td>\n",
       "      <td>115.22</td>\n",
       "      <td>0.88</td>\n",
       "      <td>0.76</td>\n",
       "      <td>5.57</td>\n",
       "      <td>15:59:59</td>\n",
       "    </tr>\n",
       "  </tbody>\n",
       "</table>\n",
       "</div>"
      ],
      "text/plain": [
       "             timestamp         name    last    high     low  change  \\\n",
       "0  2025-09-18 02:00:00       Boeing  214.68  218.05  213.13   -0.34   \n",
       "1  2025-09-18 02:00:00      Chevron  160.10  160.67  158.61    0.56   \n",
       "2  2025-09-18 02:00:00    Citigroup  101.76  102.21  100.41    1.12   \n",
       "3  2025-09-18 02:00:00  Caterpillar  450.62  452.34  443.00    9.95   \n",
       "4  2025-09-18 01:30:00  Walt Disney  116.11  116.66  115.22    0.88   \n",
       "\n",
       "   change_percentage  volume      time  \n",
       "0              -0.16    5.31  15:59:59  \n",
       "1               0.35    4.02  15:59:59  \n",
       "2               1.11   13.61  15:59:59  \n",
       "3               2.26    4.31  15:59:59  \n",
       "4               0.76    5.57  15:59:59  "
      ]
     },
     "execution_count": 7,
     "metadata": {},
     "output_type": "execute_result"
    }
   ],
   "source": [
    "# Get dataframe columns:\n",
    "print(f\"Dataframe columns: {data.columns}\\n\")\n",
    "\n",
    "# Renaming the chg_, chg_% and vol_ columns to make them more readable:\n",
    "updated_cols = {'chg_': 'change','chg_%': 'change_percentage','vol_': 'volume'}\n",
    "\n",
    "# Ommit the 'inplace' argument to get a copy of the original dataframe with updated columns.\n",
    "data.rename(columns=updated_cols, inplace = True)\n",
    "\n",
    "def process_percentage(v: str) -> float:\n",
    "    try:\n",
    "        new = v.replace('%', '').replace('+', '')\n",
    "    \n",
    "        return float(new)\n",
    "    except:\n",
    "        return v\n",
    "\n",
    "def process_volume(v: str) -> float:\n",
    "    try:\n",
    "        new = v.replace('M', '').replace('K', '')\n",
    "    \n",
    "        return float(new)\n",
    "    except:\n",
    "        return v\n",
    "\n",
    "data['change_percentage'] = data['change_percentage'].apply(lambda x: process_percentage(x))\n",
    "data['volume'] = data['volume'].apply(lambda x: process_volume(x))\n",
    "\n",
    "print(\"Visualising the new data with updated columns and cleaned rows:\")\n",
    "data.head(5)\n"
   ]
  },
  {
   "cell_type": "code",
   "execution_count": 8,
   "metadata": {},
   "outputs": [
    {
     "name": "stdout",
     "output_type": "stream",
     "text": [
      "OLD data Shape = (135328, 9)\n",
      "NEW data Shape = (135328, 9)\n"
     ]
    }
   ],
   "source": [
    "# Removing Nan values:\n",
    "print(f\"OLD data Shape = {data.shape}\")\n",
    "\n",
    "data.dropna()\n",
    "\n",
    "print(f\"NEW data Shape = {data.shape}\")"
   ]
  },
  {
   "cell_type": "code",
   "execution_count": 9,
   "metadata": {},
   "outputs": [
    {
     "name": "stdout",
     "output_type": "stream",
     "text": [
      "Original DataFrame shape: (135328, 9)\n",
      "Numeric data shape: (135328, 6)\n",
      "Features: ['last' 'high' 'low' 'change' 'change_percentage' 'volume']\n",
      "Stock names: ['Boeing' 'Chevron' 'Citigroup' ... 'Coca-Cola' 'P&amp;G' 'Nike']\n",
      "\n",
      "First few rows of numeric data:\n"
     ]
    },
    {
     "data": {
      "text/html": [
       "<div>\n",
       "<style scoped>\n",
       "    .dataframe tbody tr th:only-of-type {\n",
       "        vertical-align: middle;\n",
       "    }\n",
       "\n",
       "    .dataframe tbody tr th {\n",
       "        vertical-align: top;\n",
       "    }\n",
       "\n",
       "    .dataframe thead th {\n",
       "        text-align: right;\n",
       "    }\n",
       "</style>\n",
       "<table border=\"1\" class=\"dataframe\">\n",
       "  <thead>\n",
       "    <tr style=\"text-align: right;\">\n",
       "      <th></th>\n",
       "      <th>last</th>\n",
       "      <th>high</th>\n",
       "      <th>low</th>\n",
       "      <th>change</th>\n",
       "      <th>change_percentage</th>\n",
       "      <th>volume</th>\n",
       "    </tr>\n",
       "  </thead>\n",
       "  <tbody>\n",
       "    <tr>\n",
       "      <th>Boeing</th>\n",
       "      <td>214.68</td>\n",
       "      <td>218.05</td>\n",
       "      <td>213.13</td>\n",
       "      <td>-0.34</td>\n",
       "      <td>-0.16</td>\n",
       "      <td>5.31</td>\n",
       "    </tr>\n",
       "    <tr>\n",
       "      <th>Chevron</th>\n",
       "      <td>160.10</td>\n",
       "      <td>160.67</td>\n",
       "      <td>158.61</td>\n",
       "      <td>0.56</td>\n",
       "      <td>0.35</td>\n",
       "      <td>4.02</td>\n",
       "    </tr>\n",
       "    <tr>\n",
       "      <th>Citigroup</th>\n",
       "      <td>101.76</td>\n",
       "      <td>102.21</td>\n",
       "      <td>100.41</td>\n",
       "      <td>1.12</td>\n",
       "      <td>1.11</td>\n",
       "      <td>13.61</td>\n",
       "    </tr>\n",
       "    <tr>\n",
       "      <th>Caterpillar</th>\n",
       "      <td>450.62</td>\n",
       "      <td>452.34</td>\n",
       "      <td>443.00</td>\n",
       "      <td>9.95</td>\n",
       "      <td>2.26</td>\n",
       "      <td>4.31</td>\n",
       "    </tr>\n",
       "    <tr>\n",
       "      <th>Walt Disney</th>\n",
       "      <td>116.11</td>\n",
       "      <td>116.66</td>\n",
       "      <td>115.22</td>\n",
       "      <td>0.88</td>\n",
       "      <td>0.76</td>\n",
       "      <td>5.57</td>\n",
       "    </tr>\n",
       "  </tbody>\n",
       "</table>\n",
       "</div>"
      ],
      "text/plain": [
       "               last    high     low  change  change_percentage  volume\n",
       "Boeing       214.68  218.05  213.13   -0.34              -0.16    5.31\n",
       "Chevron      160.10  160.67  158.61    0.56               0.35    4.02\n",
       "Citigroup    101.76  102.21  100.41    1.12               1.11   13.61\n",
       "Caterpillar  450.62  452.34  443.00    9.95               2.26    4.31\n",
       "Walt Disney  116.11  116.66  115.22    0.88               0.76    5.57"
      ]
     },
     "execution_count": 9,
     "metadata": {},
     "output_type": "execute_result"
    }
   ],
   "source": [
    "# Extract numeric columns and convert to numpy arrays\n",
    "numeric_columns = ['last', 'high', 'low', 'change', 'change_percentage', 'volume']\n",
    "names = data['name'].values  # NumPy array of stock names\n",
    "\n",
    "# Create numpy arrays from DataFrame columns\n",
    "last_prices = data['last'].values\n",
    "high_prices = data['high'].values\n",
    "low_prices = data['low'].values\n",
    "changes = data['change'].values\n",
    "change_percentages = data['change_percentage'].values\n",
    "volumes = data['volume'].values\n",
    "\n",
    "# Combine all numeric data into a 2D numpy array\n",
    "numeric_data = np.column_stack([last_prices, high_prices, low_prices, changes, change_percentages, volumes])\n",
    "feature_names = np.array(['last', 'high', 'low', 'change', 'change_percentage', 'volume'])\n",
    "\n",
    "# Create DataFrame for seaborn compatibility\n",
    "data_numeric = pd.DataFrame(numeric_data, columns=feature_names, index=names)\n",
    "\n",
    "\n",
    "print(f\"Original DataFrame shape: {data.shape}\")\n",
    "print(f\"Numeric data shape: {numeric_data.shape}\")\n",
    "print(f\"Features: {feature_names}\")\n",
    "print(f\"Stock names: {names}\")\n",
    "print(f\"\\nFirst few rows of numeric data:\")\n",
    "data_numeric.head()"
   ]
  },
  {
   "cell_type": "code",
   "execution_count": 10,
   "metadata": {},
   "outputs": [],
   "source": [
    "# Data visualisation (histogramm, pair plot, box plot, corralation heatmap, feature distrubion)\n",
    "\n",
    "plt.style.use('default')\n",
    "sb.set_palette(\"husl\")"
   ]
  },
  {
   "cell_type": "code",
   "execution_count": 11,
   "metadata": {},
   "outputs": [
    {
     "data": {
      "image/png": "[encoded data removed]",
      "text/plain": [
       "<Figure size 1200x900 with 2 Axes>"
      ]
     },
     "metadata": {},
     "output_type": "display_data"
    }
   ],
   "source": [
    "# 4. Correlation Heatmap using numpy arrays\n",
    "plt.figure(figsize=(12, 9))\n",
    "# Calculate correlation matrix using numpy\n",
    "correlation_matrix = np.corrcoef(numeric_data.T)  # Transpose to get feature correlation\n",
    "mask = np.triu(np.ones_like(correlation_matrix, dtype=bool))  # Mask upper triangle\n",
    "# Create DataFrame for seaborn heatmap\n",
    "corr_data = pd.DataFrame(correlation_matrix, index=feature_names, columns=feature_names)\n",
    "sb.heatmap(corr_data, annot=True, cmap='RdBu_r', center=0,\n",
    "            square=True, fmt='.3f', cbar_kws={\"shrink\": .8},\n",
    "            mask=mask, linewidths=0.5)\n",
    "plt.title('Correlation Heatmap - Stock Variables', fontsize=14, pad=20)\n",
    "plt.tight_layout()\n",
    "plt.show()"
   ]
  },
  {
   "cell_type": "code",
   "execution_count": null,
   "metadata": {},
   "outputs": [],
   "source": [
    "# 5. Feature Distribution\n",
    "fig, axes = plt.subplots(2, 2, figsize=(16, 12))\n",
    "fig.suptitle('Feature Distribution Analysis', fontsize=16)\n",
    "\n",
    "# 5a. Violin plot\n",
    "violin_data = [numeric_data[:, i] for i in range(len(feature_names))]\n",
    "parts = axes[0, 0].violinplot(violin_data, positions=range(len(feature_names)), \n",
    "                             showmeans=True, showmedians=True, showextrema=True)\n",
    "axes[0, 0].set_title('Violin Plot - Feature Distributions')\n",
    "axes[0, 0].set_xticks(range(len(feature_names)))\n",
    "axes[0, 0].set_xticklabels(feature_names, rotation=45)\n",
    "axes[0, 0].set_ylabel('Values')\n",
    "\n",
    "# Color violin plots\n",
    "colors = sb.color_palette(\"husl\", len(feature_names))\n",
    "for pc, color in zip(parts['bodies'], colors):\n",
    "    pc.set_facecolor(color)\n",
    "    pc.set_alpha(0.7)\n",
    "\n",
    "# 5b. Multiple histograms overlaid\n",
    "for i in range(len(feature_names)):\n",
    "    feature_data = numeric_data[:, i]\n",
    "    # Normalize data to 0-1 range for comparison\n",
    "    normalized_data = (feature_data - np.min(feature_data)) / (np.max(feature_data) - np.min(feature_data))\n",
    "    axes[0, 1].hist(normalized_data, alpha=0.4, label=feature_names[i], bins=4, density=True)\n",
    "axes[0, 1].set_title('Normalized Feature Distributions')\n",
    "axes[0, 1].legend(fontsize=8)\n",
    "axes[0, 1].set_xlabel('Normalized Values (0-1)')\n",
    "axes[0, 1].set_ylabel('Density')\n",
    "\n",
    "# 5c. Box plot comparison using numpy arrays\n",
    "box_data = [numeric_data[:, i] for i in range(len(feature_names))]\n",
    "bp = axes[1, 0].boxplot(box_data, tick_labels=feature_names, patch_artist=True, notch=True)\n",
    "axes[1, 0].set_title('Box Plot Comparison - All Features')\n",
    "axes[1, 0].set_xticklabels(feature_names, rotation=45)\n",
    "axes[1, 0].set_ylabel('Values')\n",
    "\n",
    "# Color the boxes\n",
    "for patch, color in zip(bp['boxes'], colors):\n",
    "    patch.set_facecolor(color)\n",
    "    patch.set_alpha(0.7)\n",
    "\n",
    "# 5d. Strip plot with stock names using numpy arrays\n",
    "for i in range(len(feature_names)):\n",
    "    y_values = numeric_data[:, i]\n",
    "    x_values = np.full(len(y_values), i) + np.random.normal(0, 0.05, len(y_values))  # Add jitter\n",
    "    axes[1, 1].scatter(x_values, y_values, alpha=0.8, s=120, \n",
    "                      c=[colors[i]], edgecolors='black', linewidth=1)\n",
    "    \n",
    "    # Add stock names\n",
    "    for j in range(len(names)):\n",
    "        axes[1, 1].annotate(names[j][:4], (x_values[j], y_values[j]), \n",
    "                           xytext=(6, 6), textcoords='offset points', \n",
    "                           fontsize=9, alpha=0.9, fontweight='bold')\n",
    "\n",
    "axes[1, 1].set_title('Strip Plot - All Features with Stock Names')\n",
    "axes[1, 1].set_xticks(range(len(feature_names)))\n",
    "axes[1, 1].set_xticklabels(feature_names, rotation=45)\n",
    "axes[1, 1].set_ylabel('Values')\n",
    "\n",
    "plt.tight_layout()\n",
    "plt.show()"
   ]
  },
  {
   "cell_type": "code",
   "execution_count": null,
   "metadata": {},
   "outputs": [],
   "source": [
    "# Print basic statistics\n",
    "print(\"Stock Data Summary:\")\n",
    "print(data_numeric.describe())"
   ]
  },
  {
   "cell_type": "markdown",
   "metadata": {},
   "source": [
    "# Model utilities (Definions and function personalisations)"
   ]
  },
  {
   "cell_type": "code",
   "execution_count": null,
   "metadata": {
    "id": "73AkL-tM9wmR"
   },
   "outputs": [],
   "source": [
    "# Any function that needs to be personalised (ex: Cross validation), if none, you don't need to have this part."
   ]
  },
  {
   "cell_type": "markdown",
   "metadata": {},
   "source": [
    "# Model Training and evaluation"
   ]
  },
  {
   "cell_type": "code",
   "execution_count": null,
   "metadata": {},
   "outputs": [],
   "source": [
    "# Training (training time)"
   ]
  },
  {
   "cell_type": "code",
   "execution_count": null,
   "metadata": {},
   "outputs": [],
   "source": [
    "# Evaluation (time + metrics)"
   ]
  },
  {
   "cell_type": "code",
   "execution_count": null,
   "metadata": {},
   "outputs": [],
   "source": [
    "# Visualisation (example: confusion matrix, rock curve, precision recall) ADAPT TO YOUR OWN MODEL !"
   ]
  },
  {
   "cell_type": "code",
   "execution_count": null,
   "metadata": {},
   "outputs": [],
   "source": [
    "# Shap (waterfall plot / beeswarm / shap heatmap / shap decision plot / dependence plot)"
   ]
  }
 ],
 "metadata": {
  "colab": {
   "provenance": []
  },
  "kernelspec": {
   "display_name": "Python 3 (ipykernel)",
   "language": "python",
   "name": "python3"
  },
  "language_info": {
   "codemirror_mode": {
    "name": "ipython",
    "version": 3
   },
   "file_extension": ".py",
   "mimetype": "text/x-python",
   "name": "python",
   "nbconvert_exporter": "python",
   "pygments_lexer": "ipython3",
   "version": "3.12.6"
  }
 },
 "nbformat": 4,
 "nbformat_minor": 4
}
