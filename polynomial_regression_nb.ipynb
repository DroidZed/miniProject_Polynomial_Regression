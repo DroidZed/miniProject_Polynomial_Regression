{
 "cells": [
  {
   "cell_type": "markdown",
   "id": "13a972af-d76d-4499-a788-cd9294089dd3",
   "metadata": {
    "editable": true,
    "slideshow": {
     "slide_type": ""
    },
    "tags": []
   },
   "source": [
    "# Prediction of the Crypto Market Cap Growth"
   ]
  },
  {
   "cell_type": "markdown",
   "id": "6e0b8d03-9bcc-4ea2-ae87-f02c1a20e7b3",
   "metadata": {},
   "source": [
    "This notebook serves as an analysis tool for the Crypto market. It explores a 24-hour updating dataset to approximate the deviation in exchange and understand the market growth trajectory."
   ]
  },
  {
   "cell_type": "code",
   "execution_count": null,
   "id": "a3a32a65-d90f-4a10-9115-ecb4f928d9af",
   "metadata": {},
   "outputs": [],
   "source": [
    "print(\"this works !\")"
   ]
  },
  {
   "cell_type": "markdown",
   "id": "f3acc987-7fa3-4493-a7ad-a66a4685b8bc",
   "metadata": {},
   "source": [
    "Stock market analysis via this real-time updating [dataset](https://www.kaggle.com/datasets/adrianjuliusaluoch/crypto-and-stock-market-data-for-financial-analysis)."
   ]
  },
  {
   "cell_type": "code",
   "execution_count": null,
   "id": "f3887dff-b5ec-405f-a55f-80030cec305a",
   "metadata": {},
   "outputs": [],
   "source": []
  },
  {
   "cell_type": "code",
   "execution_count": null,
   "id": "83569ec1-af0a-40cd-9d03-6682eeb7e8bf",
   "metadata": {},
   "outputs": [],
   "source": []
  }
 ],
 "metadata": {
  "kernelspec": {
   "display_name": "Python 3 (ipykernel)",
   "language": "python",
   "name": "python3"
  },
  "language_info": {
   "codemirror_mode": {
    "name": "ipython",
    "version": 3
   },
   "file_extension": ".py",
   "mimetype": "text/x-python",
   "name": "python",
   "nbconvert_exporter": "python",
   "pygments_lexer": "ipython3",
   "version": "3.13.3"
  }
 },
 "nbformat": 4,
 "nbformat_minor": 5
}
