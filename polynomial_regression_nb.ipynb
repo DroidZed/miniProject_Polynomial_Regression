{
 "cells": [
  {
   "cell_type": "markdown",
   "id": "13a972af-d76d-4499-a788-cd9294089dd3",
   "metadata": {},
   "source": [
    "# Application of the Polynomial Regression Model in  "
   ]
  },
  {
   "cell_type": "code",
   "execution_count": null,
   "id": "4d4056d6-3d22-4220-a542-e42cb7f110b1",
   "metadata": {},
   "outputs": [],
   "source": []
  },
  {
   "cell_type": "code",
   "execution_count": 1,
   "id": "80d996cc-0e82-40bb-aa2c-1ab098e460ae",
   "metadata": {},
   "outputs": [
    {
     "name": "stdout",
     "output_type": "stream",
     "text": [
      "this works !\n"
     ]
    }
   ],
   "source": [
    "print(\"this works !\")"
   ]
  }
 ],
 "metadata": {
  "kernelspec": {
   "display_name": "Python 3 (ipykernel)",
   "language": "python",
   "name": "python3"
  },
  "language_info": {
   "codemirror_mode": {
    "name": "ipython",
    "version": 3
   },
   "file_extension": ".py",
   "mimetype": "text/x-python",
   "name": "python",
   "nbconvert_exporter": "python",
   "pygments_lexer": "ipython3",
   "version": "3.13.3"
  }
 },
 "nbformat": 4,
 "nbformat_minor": 5
}
